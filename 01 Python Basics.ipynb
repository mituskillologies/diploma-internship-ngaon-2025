{
 "cells": [
  {
   "cell_type": "code",
   "execution_count": 1,
   "id": "cfd08280-f31b-41ef-aae1-c13bfc0b999a",
   "metadata": {},
   "outputs": [
    {
     "name": "stdout",
     "output_type": "stream",
     "text": [
      "Hello World\n"
     ]
    }
   ],
   "source": [
    "print('Hello World')"
   ]
  },
  {
   "cell_type": "code",
   "execution_count": 2,
   "id": "ad989cbe-87f4-4215-9f4e-01447b9cbf89",
   "metadata": {},
   "outputs": [
    {
     "name": "stdout",
     "output_type": "stream",
     "text": [
      "Hello World\n",
      "Welcome !\n",
      "Good Bye...\n"
     ]
    }
   ],
   "source": [
    "print('Hello World')\n",
    "print('Welcome !')\n",
    "print('Good Bye...')"
   ]
  },
  {
   "cell_type": "code",
   "execution_count": 3,
   "id": "dfa7c2dd-142c-45a1-8a43-9e0197e0bd0d",
   "metadata": {},
   "outputs": [
    {
     "ename": "SyntaxError",
     "evalue": "invalid syntax (2659562960.py, line 1)",
     "output_type": "error",
     "traceback": [
      "\u001b[0;36m  Cell \u001b[0;32mIn[3], line 1\u001b[0;36m\u001b[0m\n\u001b[0;31m    pass = 67\u001b[0m\n\u001b[0m         ^\u001b[0m\n\u001b[0;31mSyntaxError\u001b[0m\u001b[0;31m:\u001b[0m invalid syntax\n"
     ]
    }
   ],
   "source": [
    "pass = 67"
   ]
  },
  {
   "cell_type": "code",
   "execution_count": 4,
   "id": "09d508e3-f40f-40f2-a22b-2b206d69f879",
   "metadata": {},
   "outputs": [],
   "source": [
    "pass1 = 67"
   ]
  },
  {
   "cell_type": "code",
   "execution_count": 5,
   "id": "6466a7bb-28df-4b5f-8009-880d87f968a1",
   "metadata": {},
   "outputs": [],
   "source": [
    "num = 45"
   ]
  },
  {
   "cell_type": "code",
   "execution_count": 6,
   "id": "9faea81c-aad5-40f8-af48-776f9859f135",
   "metadata": {},
   "outputs": [
    {
     "name": "stdout",
     "output_type": "stream",
     "text": [
      "45\n"
     ]
    }
   ],
   "source": [
    "print(num)"
   ]
  },
  {
   "cell_type": "code",
   "execution_count": 7,
   "id": "c9c5313c-35cd-4b5f-9124-eb8d9153cf7b",
   "metadata": {},
   "outputs": [
    {
     "data": {
      "text/plain": [
       "int"
      ]
     },
     "execution_count": 7,
     "metadata": {},
     "output_type": "execute_result"
    }
   ],
   "source": [
    "type(num)"
   ]
  },
  {
   "cell_type": "code",
   "execution_count": 8,
   "id": "d584f832-84dc-4ad7-9acc-bd6009b8b024",
   "metadata": {},
   "outputs": [],
   "source": [
    "num = 67.8"
   ]
  },
  {
   "cell_type": "code",
   "execution_count": 9,
   "id": "50e58fc3-30ca-4ac7-8706-2714823a0036",
   "metadata": {},
   "outputs": [
    {
     "data": {
      "text/plain": [
       "float"
      ]
     },
     "execution_count": 9,
     "metadata": {},
     "output_type": "execute_result"
    }
   ],
   "source": [
    "type(num)"
   ]
  },
  {
   "cell_type": "code",
   "execution_count": 11,
   "id": "00a36f5b-1b2f-4922-87be-293006a3e542",
   "metadata": {},
   "outputs": [],
   "source": [
    "name = 'Tushar'"
   ]
  },
  {
   "cell_type": "code",
   "execution_count": 12,
   "id": "39cb62d9-2bca-4982-aa68-180f6ca73d3f",
   "metadata": {},
   "outputs": [
    {
     "name": "stdout",
     "output_type": "stream",
     "text": [
      "Tushar\n"
     ]
    }
   ],
   "source": [
    "print(name)"
   ]
  },
  {
   "cell_type": "code",
   "execution_count": 13,
   "id": "70bd91d2-7302-4401-9d3c-9ec5a2499250",
   "metadata": {},
   "outputs": [
    {
     "data": {
      "text/plain": [
       "str"
      ]
     },
     "execution_count": 13,
     "metadata": {},
     "output_type": "execute_result"
    }
   ],
   "source": [
    "type(name)"
   ]
  },
  {
   "cell_type": "code",
   "execution_count": 14,
   "id": "1c5a4582-3d5c-42db-8a7e-89f1d416ed4a",
   "metadata": {},
   "outputs": [],
   "source": [
    "name = \"Tushar\""
   ]
  },
  {
   "cell_type": "code",
   "execution_count": 15,
   "id": "79cfef58-33bc-4df9-a640-7ec1499ecdd3",
   "metadata": {},
   "outputs": [
    {
     "data": {
      "text/plain": [
       "'Tushar'"
      ]
     },
     "execution_count": 15,
     "metadata": {},
     "output_type": "execute_result"
    }
   ],
   "source": [
    "name"
   ]
  },
  {
   "cell_type": "markdown",
   "id": "9221268d-9f1e-4be1-8f9b-fb9f04a8302a",
   "metadata": {},
   "source": [
    "#### Data Types"
   ]
  },
  {
   "cell_type": "code",
   "execution_count": 16,
   "id": "348fe97d-65ee-445a-850e-639895388147",
   "metadata": {},
   "outputs": [],
   "source": [
    "# integer\n",
    "num = 465"
   ]
  },
  {
   "cell_type": "code",
   "execution_count": 17,
   "id": "bccb9ca8-5a07-4bb5-a588-b3ff78c6c785",
   "metadata": {},
   "outputs": [],
   "source": [
    "num1 = -29"
   ]
  },
  {
   "cell_type": "code",
   "execution_count": 18,
   "id": "fee8e275-bb53-4e82-aef5-476e34537111",
   "metadata": {},
   "outputs": [
    {
     "name": "stdout",
     "output_type": "stream",
     "text": [
      "465 -29\n"
     ]
    }
   ],
   "source": [
    "print(num, num1)"
   ]
  },
  {
   "cell_type": "code",
   "execution_count": 21,
   "id": "69d8e6f8-b07e-48ba-9852-bcaea3088ff1",
   "metadata": {},
   "outputs": [],
   "source": [
    "num2 = 75623875627678461285612756127512857125816565786325895689561856125891658192"
   ]
  },
  {
   "cell_type": "code",
   "execution_count": 22,
   "id": "3e7b9e43-efbf-4f42-b236-50aa49f52fac",
   "metadata": {},
   "outputs": [
    {
     "name": "stdout",
     "output_type": "stream",
     "text": [
      "75623875627678461285612756127512857125816565786325895689561856125891658192\n"
     ]
    }
   ],
   "source": [
    "print(num2)"
   ]
  },
  {
   "cell_type": "code",
   "execution_count": 25,
   "id": "35a43cce-e7bd-4a48-ada3-1704e30c6b72",
   "metadata": {},
   "outputs": [],
   "source": [
    "num = 56788 ** 243"
   ]
  },
  {
   "cell_type": "code",
   "execution_count": 26,
   "id": "b9ec37b2-f4b4-4cef-b87c-8a5c58bd6cc0",
   "metadata": {},
   "outputs": [
    {
     "data": {
      "text/plain": [
       "1924630659736089050148037780720228476987770030676485068096551737108688513587636706712707809478638220754153346169051409962062143043583542705560546419453426231194068028591340809661446317378292071546454123576965032779890879470119641160943833574138268047056735747762457057674095924273803589166940099008189651971567885593324816645538107617722213682178095200464753427725260433003228911124634045329659065077699635881364922850297530160665062354612551309614972025572317742064629845903572469126410835268335160990687834350789096747936273468287543663294329630125502245752387518545139169723748941468839342633210024499197474297119152461247019737703350470463077868946734913272695641724273647188217109744661281336378473561067396651132850817826129988949477811198889428143448771155978527224755041882545739403125968560207817912081713225223305321116087493797333698626636860642778741723760172826132884894340591898573728040290996898367240073049560473551269068481543378044210718461609703241517022869225798914847190469861580753369040252182590543878801441379593320890563839087666464126937452064311266174895504548236571148462860665174580683465141336261616889647206669348955144323072"
      ]
     },
     "execution_count": 26,
     "metadata": {},
     "output_type": "execute_result"
    }
   ],
   "source": [
    "num"
   ]
  },
  {
   "cell_type": "code",
   "execution_count": 27,
   "id": "923b180a-ac1b-4a18-bdb5-cf506ff05ff4",
   "metadata": {},
   "outputs": [],
   "source": [
    "f = 675.637823"
   ]
  },
  {
   "cell_type": "code",
   "execution_count": 30,
   "id": "84d63a5c-fd60-485d-bd1d-cc9e930e573b",
   "metadata": {},
   "outputs": [],
   "source": [
    "f = 67e32"
   ]
  },
  {
   "cell_type": "code",
   "execution_count": 31,
   "id": "3d72bd2f-d64a-44c0-bb8c-c49a75032ba0",
   "metadata": {},
   "outputs": [
    {
     "data": {
      "text/plain": [
       "6.7e+33"
      ]
     },
     "execution_count": 31,
     "metadata": {},
     "output_type": "execute_result"
    }
   ],
   "source": [
    "f"
   ]
  },
  {
   "cell_type": "code",
   "execution_count": 32,
   "id": "d012cf84-7b65-4a71-a0af-989532c251b7",
   "metadata": {},
   "outputs": [
    {
     "data": {
      "text/plain": [
       "float"
      ]
     },
     "execution_count": 32,
     "metadata": {},
     "output_type": "execute_result"
    }
   ],
   "source": [
    "type(f)"
   ]
  },
  {
   "cell_type": "code",
   "execution_count": 33,
   "id": "0e78f496-1526-4b05-bd7b-a7355e63938e",
   "metadata": {},
   "outputs": [],
   "source": [
    "num = 0x34"
   ]
  },
  {
   "cell_type": "code",
   "execution_count": 37,
   "id": "a8a5bcb7-fbca-4668-8dfa-19ab4baf9565",
   "metadata": {},
   "outputs": [
    {
     "name": "stdout",
     "output_type": "stream",
     "text": [
      "52\n"
     ]
    }
   ],
   "source": [
    "print(num)  # decimal value"
   ]
  },
  {
   "cell_type": "code",
   "execution_count": 38,
   "id": "ffc0236d-8b9e-42a5-8933-c9dd0fdf49aa",
   "metadata": {},
   "outputs": [
    {
     "name": "stdout",
     "output_type": "stream",
     "text": [
      "34\n"
     ]
    }
   ],
   "source": [
    "print('%x' %num)  # hexa decimal"
   ]
  },
  {
   "cell_type": "code",
   "execution_count": 39,
   "id": "6e418847-07b8-4544-b59d-59202afaaed2",
   "metadata": {},
   "outputs": [],
   "source": [
    "num = 0b1111"
   ]
  },
  {
   "cell_type": "code",
   "execution_count": 40,
   "id": "7bf46a30-e891-4096-9b72-002abf4909e4",
   "metadata": {},
   "outputs": [
    {
     "data": {
      "text/plain": [
       "15"
      ]
     },
     "execution_count": 40,
     "metadata": {},
     "output_type": "execute_result"
    }
   ],
   "source": [
    "num"
   ]
  },
  {
   "cell_type": "code",
   "execution_count": 41,
   "id": "f84b35cc-0bc1-4c08-ba35-f6ed49c2dad0",
   "metadata": {},
   "outputs": [],
   "source": [
    "# multiple assignment\n",
    "num1, num2, num3 = 67, 34, 90"
   ]
  },
  {
   "cell_type": "code",
   "execution_count": 42,
   "id": "6743153a-401c-4711-9806-ec7bc84291cf",
   "metadata": {},
   "outputs": [
    {
     "data": {
      "text/plain": [
       "67"
      ]
     },
     "execution_count": 42,
     "metadata": {},
     "output_type": "execute_result"
    }
   ],
   "source": [
    "num1"
   ]
  },
  {
   "cell_type": "code",
   "execution_count": 43,
   "id": "7725ec2f-42c1-4e41-a36e-34349df8e6d1",
   "metadata": {},
   "outputs": [
    {
     "data": {
      "text/plain": [
       "34"
      ]
     },
     "execution_count": 43,
     "metadata": {},
     "output_type": "execute_result"
    }
   ],
   "source": [
    "num2"
   ]
  },
  {
   "cell_type": "code",
   "execution_count": 44,
   "id": "0eef8c3c-913e-4e4c-a980-cc2121c018e7",
   "metadata": {},
   "outputs": [
    {
     "data": {
      "text/plain": [
       "90"
      ]
     },
     "execution_count": 44,
     "metadata": {},
     "output_type": "execute_result"
    }
   ],
   "source": [
    "num3"
   ]
  },
  {
   "cell_type": "code",
   "execution_count": 45,
   "id": "e7b29998-417d-46fa-91fa-4e99cbe0a3ea",
   "metadata": {},
   "outputs": [],
   "source": [
    "num1, num2, num3 = 67, 34.35, 'Tushar'"
   ]
  },
  {
   "cell_type": "code",
   "execution_count": 46,
   "id": "ae2473bc-937a-4423-99f9-47e48280e3a3",
   "metadata": {},
   "outputs": [
    {
     "name": "stdout",
     "output_type": "stream",
     "text": [
      "67 34.35 Tushar\n"
     ]
    }
   ],
   "source": [
    "print(num1, num2 ,num3)"
   ]
  },
  {
   "cell_type": "code",
   "execution_count": 47,
   "id": "fbcc94db-54d4-4074-bc4e-a9de1b5068f4",
   "metadata": {},
   "outputs": [],
   "source": [
    "num1 = num2 = num3 = 67"
   ]
  },
  {
   "cell_type": "code",
   "execution_count": 48,
   "id": "f65e5d5d-9121-4816-8a05-db812fd8e6ff",
   "metadata": {},
   "outputs": [
    {
     "name": "stdout",
     "output_type": "stream",
     "text": [
      "67 67 67\n"
     ]
    }
   ],
   "source": [
    "print(num1, num2 ,num3)"
   ]
  },
  {
   "cell_type": "code",
   "execution_count": 49,
   "id": "57acbc23-85aa-41af-bf78-b644e4889aa0",
   "metadata": {},
   "outputs": [
    {
     "name": "stdout",
     "output_type": "stream",
     "text": [
      "112\n"
     ]
    }
   ],
   "source": [
    "num1 = 45\n",
    "num2 = 67\n",
    "add = num1 + num2\n",
    "print(add)"
   ]
  },
  {
   "cell_type": "code",
   "execution_count": 50,
   "id": "1ebc1cb7-d7db-418c-8c86-aa6be012828c",
   "metadata": {},
   "outputs": [
    {
     "name": "stdout",
     "output_type": "stream",
     "text": [
      "112\n"
     ]
    }
   ],
   "source": [
    "num1 = 45; num2 = 67; add = num1 + num2; print(add)"
   ]
  },
  {
   "cell_type": "markdown",
   "id": "2aab9a2d-2c66-431f-80a4-efc439357409",
   "metadata": {},
   "source": [
    "##### print function"
   ]
  },
  {
   "cell_type": "code",
   "execution_count": 52,
   "id": "dd583ba9-ee6c-48ff-8e1a-9e20ae19e770",
   "metadata": {},
   "outputs": [],
   "source": [
    "name = 'Tushar'\n",
    "marks = 67.78"
   ]
  },
  {
   "cell_type": "code",
   "execution_count": 53,
   "id": "eb4a9e15-3451-45c3-9d48-8e9347e2b638",
   "metadata": {},
   "outputs": [
    {
     "name": "stdout",
     "output_type": "stream",
     "text": [
      "Tushar 67.78\n"
     ]
    }
   ],
   "source": [
    "print(name, marks)"
   ]
  },
  {
   "cell_type": "code",
   "execution_count": 54,
   "id": "1d2c8342-5780-408a-b83b-78792bad5de7",
   "metadata": {},
   "outputs": [
    {
     "name": "stdout",
     "output_type": "stream",
     "text": [
      "My name is Tushar and marks are: 67.78\n"
     ]
    }
   ],
   "source": [
    "print('My name is',name,'and marks are:',marks)"
   ]
  },
  {
   "cell_type": "code",
   "execution_count": 55,
   "id": "7747b5a6-3de4-4383-97ef-5a35e1a9a2ca",
   "metadata": {},
   "outputs": [
    {
     "name": "stdout",
     "output_type": "stream",
     "text": [
      "My name is Tushar and marks are: 67\n"
     ]
    }
   ],
   "source": [
    "# formatted print\n",
    "print('My name is %s and marks are: %d' %(name, marks))"
   ]
  },
  {
   "cell_type": "code",
   "execution_count": 56,
   "id": "5fcb0cd5-7574-4d15-a443-054b3beeb0ca",
   "metadata": {},
   "outputs": [
    {
     "name": "stdout",
     "output_type": "stream",
     "text": [
      "My name is Tushar and marks are: 67.780000\n"
     ]
    }
   ],
   "source": [
    "# formatted print\n",
    "print('My name is %s and marks are: %f' %(name, marks))"
   ]
  },
  {
   "cell_type": "code",
   "execution_count": 57,
   "id": "5f9b8e64-4fda-45b3-8acc-614cb9ad32f3",
   "metadata": {},
   "outputs": [
    {
     "name": "stdout",
     "output_type": "stream",
     "text": [
      "My name is Tushar and marks are: 67.78\n"
     ]
    }
   ],
   "source": [
    "# formatted print\n",
    "print('My name is %s and marks are: %.2f' %(name, marks))"
   ]
  },
  {
   "cell_type": "code",
   "execution_count": 60,
   "id": "9b8301a4-29d0-4d55-9577-333d90b8596c",
   "metadata": {},
   "outputs": [
    {
     "name": "stdout",
     "output_type": "stream",
     "text": [
      "My name is Tushar and marks are: 67.78\n"
     ]
    }
   ],
   "source": [
    "# formatted print\n",
    "print(f'My name is {name} and marks are: {marks}')"
   ]
  },
  {
   "cell_type": "code",
   "execution_count": 61,
   "id": "f74aac19-3697-4e00-a8d2-d1c9575b5d46",
   "metadata": {},
   "outputs": [
    {
     "name": "stdout",
     "output_type": "stream",
     "text": [
      "Tushar\n",
      "67.78\n"
     ]
    }
   ],
   "source": [
    "print(name)\n",
    "print(marks)"
   ]
  },
  {
   "cell_type": "code",
   "execution_count": 62,
   "id": "08722a3b-01de-4cdb-940a-ff3eef24365c",
   "metadata": {},
   "outputs": [
    {
     "name": "stdout",
     "output_type": "stream",
     "text": [
      "Tushar 67.78\n"
     ]
    }
   ],
   "source": [
    "print(name, end=' ')\n",
    "print(marks)"
   ]
  },
  {
   "cell_type": "code",
   "execution_count": 63,
   "id": "436c2237-57b0-41a5-94de-04cbb76a7893",
   "metadata": {},
   "outputs": [
    {
     "name": "stdout",
     "output_type": "stream",
     "text": [
      "Tushar\t67.78\n"
     ]
    }
   ],
   "source": [
    "print(name, end='\\t')\n",
    "print(marks)"
   ]
  },
  {
   "cell_type": "code",
   "execution_count": 64,
   "id": "4570800f-fd3e-4c92-ac63-db56b6b14ff8",
   "metadata": {},
   "outputs": [
    {
     "name": "stdout",
     "output_type": "stream",
     "text": [
      "Tushar*67.78\n"
     ]
    }
   ],
   "source": [
    "print(name, end='*')\n",
    "print(marks)"
   ]
  },
  {
   "cell_type": "code",
   "execution_count": 65,
   "id": "00ec752f-45fd-4479-8b86-86d24f88e358",
   "metadata": {},
   "outputs": [
    {
     "name": "stdout",
     "output_type": "stream",
     "text": [
      "Tushar 67.78\n"
     ]
    }
   ],
   "source": [
    "print(name,marks)"
   ]
  },
  {
   "cell_type": "code",
   "execution_count": 66,
   "id": "6357846a-6f99-4786-8f32-d1bce2c8a265",
   "metadata": {},
   "outputs": [
    {
     "name": "stdout",
     "output_type": "stream",
     "text": [
      "Tushar\n",
      "67.78\n"
     ]
    }
   ],
   "source": [
    "print(name,marks,sep='\\n')"
   ]
  },
  {
   "cell_type": "code",
   "execution_count": 67,
   "id": "ccfed07c-22f7-4585-9e5c-674422a6e7fc",
   "metadata": {},
   "outputs": [
    {
     "name": "stdout",
     "output_type": "stream",
     "text": [
      "Tushar\n",
      "67.78\n",
      "Tushar\n"
     ]
    }
   ],
   "source": [
    "print(name,marks,name, sep='\\n')"
   ]
  },
  {
   "cell_type": "markdown",
   "id": "a86c4f9c-dcbf-48ce-9a64-d5acc43b7741",
   "metadata": {},
   "source": [
    "##### Arithmetic Operators"
   ]
  },
  {
   "cell_type": "code",
   "execution_count": 69,
   "id": "394c390b-7b5c-40c9-854d-0144d140b78c",
   "metadata": {},
   "outputs": [],
   "source": [
    "num1 = 34\n",
    "num2 = 15"
   ]
  },
  {
   "cell_type": "code",
   "execution_count": 70,
   "id": "cdaeea07-f09a-46ed-8bc7-f2a02d2d8d09",
   "metadata": {},
   "outputs": [
    {
     "name": "stdout",
     "output_type": "stream",
     "text": [
      "Addition is: 49\n"
     ]
    }
   ],
   "source": [
    "add = num1 + num2\n",
    "print('Addition is:', add)"
   ]
  },
  {
   "cell_type": "code",
   "execution_count": 73,
   "id": "e4699f23-c16e-4c62-98f9-3692150e6a21",
   "metadata": {},
   "outputs": [
    {
     "name": "stdout",
     "output_type": "stream",
     "text": [
      "Subtraction is: 19\n",
      "Multiplication is: 510\n",
      "Division is: 2.2666666666666666\n",
      "Floor Division is: 2\n",
      "Modulo Division: 4\n",
      "Exponentiation is: 93795878551873643905024\n"
     ]
    }
   ],
   "source": [
    "print('Subtraction is:', num1 - num2)\n",
    "print('Multiplication is:', num1 * num2)\n",
    "print('Division is:', num1 / num2)\n",
    "print('Floor Division is:', num1 // num2)\n",
    "print('Modulo Division:', num1 % num2)\n",
    "print('Exponentiation is:', num1 ** num2)"
   ]
  },
  {
   "cell_type": "code",
   "execution_count": 74,
   "id": "a5a5c548-075d-476c-945c-41f108794866",
   "metadata": {},
   "outputs": [
    {
     "data": {
      "text/plain": [
       "4668.917893127239"
      ]
     },
     "execution_count": 74,
     "metadata": {},
     "output_type": "execute_result"
    }
   ],
   "source": [
    "12 ** 3.4"
   ]
  },
  {
   "cell_type": "markdown",
   "id": "d8c54ad6-9599-4086-917b-a624d11ee6d9",
   "metadata": {},
   "source": [
    "##### Relational Operators"
   ]
  },
  {
   "cell_type": "code",
   "execution_count": 77,
   "id": "20876a9f-e747-41e0-b4ca-54c14510fa2b",
   "metadata": {},
   "outputs": [
    {
     "name": "stdout",
     "output_type": "stream",
     "text": [
      "Less Than: False\n",
      "Less Than or Equal to: False\n",
      "Greater Than: True\n",
      "Greater Than or Equal to: True\n",
      "Equal to: False\n",
      "Not Equal to: True\n"
     ]
    }
   ],
   "source": [
    "print('Less Than:', num1 < num2)\n",
    "print('Less Than or Equal to:', num1 <= num2)\n",
    "print('Greater Than:', num1 > num2)\n",
    "print('Greater Than or Equal to:', num1 >= num2)\n",
    "print('Equal to:', num1 == num2)\n",
    "print('Not Equal to:', num1 != num2)"
   ]
  },
  {
   "cell_type": "markdown",
   "id": "b8711a5f-e567-47b7-aa6a-1534bdaf8386",
   "metadata": {},
   "source": [
    "###### Boolean variables"
   ]
  },
  {
   "cell_type": "code",
   "execution_count": 79,
   "id": "40653996-90ab-436d-a5dc-b350c41185f6",
   "metadata": {},
   "outputs": [],
   "source": [
    "val = True"
   ]
  },
  {
   "cell_type": "code",
   "execution_count": 80,
   "id": "ea821bfe-5375-43b8-849a-43c2140bf578",
   "metadata": {},
   "outputs": [
    {
     "data": {
      "text/plain": [
       "bool"
      ]
     },
     "execution_count": 80,
     "metadata": {},
     "output_type": "execute_result"
    }
   ],
   "source": [
    "type(val)"
   ]
  },
  {
   "cell_type": "code",
   "execution_count": 81,
   "id": "fb6c3b99-bf33-4fb5-99fa-37ee4c3edea3",
   "metadata": {},
   "outputs": [
    {
     "data": {
      "text/plain": [
       "bool"
      ]
     },
     "execution_count": 81,
     "metadata": {},
     "output_type": "execute_result"
    }
   ],
   "source": [
    "val= False\n",
    "type(val)"
   ]
  },
  {
   "cell_type": "code",
   "execution_count": 82,
   "id": "d65be5b7-5a66-40da-9b7a-6cadd80b81f7",
   "metadata": {},
   "outputs": [
    {
     "data": {
      "text/plain": [
       "1"
      ]
     },
     "execution_count": 82,
     "metadata": {},
     "output_type": "execute_result"
    }
   ],
   "source": [
    "True + False"
   ]
  },
  {
   "cell_type": "code",
   "execution_count": 83,
   "id": "017110b4-4fdd-4031-bec4-96791a23c36b",
   "metadata": {},
   "outputs": [
    {
     "data": {
      "text/plain": [
       "2"
      ]
     },
     "execution_count": 83,
     "metadata": {},
     "output_type": "execute_result"
    }
   ],
   "source": [
    "True + True"
   ]
  },
  {
   "cell_type": "markdown",
   "id": "6484d663-a04d-4757-8c79-ca16f33aa710",
   "metadata": {},
   "source": [
    "##### Assignment Operators"
   ]
  },
  {
   "cell_type": "code",
   "execution_count": 87,
   "id": "374c59f7-81eb-4ef8-8bd2-279ea666e757",
   "metadata": {},
   "outputs": [],
   "source": [
    "# Assigment operator\n",
    "num1 = 34\n",
    "num2 = 15"
   ]
  },
  {
   "cell_type": "code",
   "execution_count": 88,
   "id": "c6657b61-d12a-4620-9441-73f06008d092",
   "metadata": {},
   "outputs": [
    {
     "data": {
      "text/plain": [
       "35"
      ]
     },
     "execution_count": 88,
     "metadata": {},
     "output_type": "execute_result"
    }
   ],
   "source": [
    "num1 += 1 # num1 = num1 + 1\n",
    "num1"
   ]
  },
  {
   "cell_type": "code",
   "execution_count": 89,
   "id": "af443e69-9dec-4be3-a829-f44c3a96086c",
   "metadata": {},
   "outputs": [
    {
     "data": {
      "text/plain": [
       "13"
      ]
     },
     "execution_count": 89,
     "metadata": {},
     "output_type": "execute_result"
    }
   ],
   "source": [
    "num2 -= 2 # num2 = num2 - 2\n",
    "num2"
   ]
  },
  {
   "cell_type": "code",
   "execution_count": 90,
   "id": "f6c08ead-c415-495d-a304-d83ae3535b51",
   "metadata": {},
   "outputs": [
    {
     "data": {
      "text/plain": [
       "39"
      ]
     },
     "execution_count": 90,
     "metadata": {},
     "output_type": "execute_result"
    }
   ],
   "source": [
    "num2 *= 3\n",
    "num2"
   ]
  },
  {
   "cell_type": "code",
   "execution_count": 91,
   "id": "ccb1ac41-f607-489e-b087-5f00b4477901",
   "metadata": {},
   "outputs": [
    {
     "data": {
      "text/plain": [
       "7"
      ]
     },
     "execution_count": 91,
     "metadata": {},
     "output_type": "execute_result"
    }
   ],
   "source": [
    "num1 //= 5\n",
    "num1"
   ]
  },
  {
   "cell_type": "markdown",
   "id": "8e5952a9-a64a-49a6-a6e1-745c37d65485",
   "metadata": {},
   "source": [
    "##### Logical Operators"
   ]
  },
  {
   "cell_type": "code",
   "execution_count": 93,
   "id": "ea829fb2-2a43-4395-a024-5a995155fb52",
   "metadata": {},
   "outputs": [],
   "source": [
    "num1 = 34\n",
    "num2 = 15"
   ]
  },
  {
   "cell_type": "code",
   "execution_count": 94,
   "id": "618c11b3-93e8-43a1-b663-e0f943f8664c",
   "metadata": {},
   "outputs": [
    {
     "data": {
      "text/plain": [
       "True"
      ]
     },
     "execution_count": 94,
     "metadata": {},
     "output_type": "execute_result"
    }
   ],
   "source": [
    "num1 > 10 and num2 < 20"
   ]
  },
  {
   "cell_type": "code",
   "execution_count": 95,
   "id": "b56317d2-1158-49c2-8e29-86234581a86f",
   "metadata": {},
   "outputs": [
    {
     "data": {
      "text/plain": [
       "False"
      ]
     },
     "execution_count": 95,
     "metadata": {},
     "output_type": "execute_result"
    }
   ],
   "source": [
    "num1 > 10 and num2 > 20"
   ]
  },
  {
   "cell_type": "code",
   "execution_count": 96,
   "id": "66686ec0-35e1-4e13-815a-3e5a53f7378e",
   "metadata": {},
   "outputs": [
    {
     "data": {
      "text/plain": [
       "True"
      ]
     },
     "execution_count": 96,
     "metadata": {},
     "output_type": "execute_result"
    }
   ],
   "source": [
    "num1 > 10 or num2 > 20"
   ]
  },
  {
   "cell_type": "code",
   "execution_count": 97,
   "id": "ab9b9413-3703-4c2d-a737-3d22f8e4a4b0",
   "metadata": {},
   "outputs": [
    {
     "data": {
      "text/plain": [
       "False"
      ]
     },
     "execution_count": 97,
     "metadata": {},
     "output_type": "execute_result"
    }
   ],
   "source": [
    "num1 <= 10 or num2 > 20"
   ]
  },
  {
   "cell_type": "code",
   "execution_count": 98,
   "id": "5390b4d0-ccce-47b5-b1c6-372eab1ba5c9",
   "metadata": {},
   "outputs": [
    {
     "data": {
      "text/plain": [
       "False"
      ]
     },
     "execution_count": 98,
     "metadata": {},
     "output_type": "execute_result"
    }
   ],
   "source": [
    "not num1 > 10"
   ]
  },
  {
   "cell_type": "code",
   "execution_count": 99,
   "id": "4a32303f-cd66-4262-93cb-0f8a85d7be79",
   "metadata": {},
   "outputs": [
    {
     "data": {
      "text/plain": [
       "True"
      ]
     },
     "execution_count": 99,
     "metadata": {},
     "output_type": "execute_result"
    }
   ],
   "source": [
    "not False"
   ]
  },
  {
   "cell_type": "markdown",
   "id": "1fbfecb9-5654-4dcb-ac7f-6c426d86b526",
   "metadata": {},
   "source": [
    "##### Membership Selection Operators"
   ]
  },
  {
   "cell_type": "code",
   "execution_count": 101,
   "id": "6a91e43e-57d8-42b1-8120-ef9da5c9be1b",
   "metadata": {},
   "outputs": [],
   "source": [
    "name = 'Tushar'"
   ]
  },
  {
   "cell_type": "code",
   "execution_count": 102,
   "id": "c79facd4-a237-4073-9323-597e343409f3",
   "metadata": {},
   "outputs": [
    {
     "data": {
      "text/plain": [
       "True"
      ]
     },
     "execution_count": 102,
     "metadata": {},
     "output_type": "execute_result"
    }
   ],
   "source": [
    "'u' in name"
   ]
  },
  {
   "cell_type": "code",
   "execution_count": 103,
   "id": "2b33ebd6-0f62-4868-a577-15a604be0f40",
   "metadata": {},
   "outputs": [
    {
     "data": {
      "text/plain": [
       "False"
      ]
     },
     "execution_count": 103,
     "metadata": {},
     "output_type": "execute_result"
    }
   ],
   "source": [
    "'R' in name"
   ]
  },
  {
   "cell_type": "code",
   "execution_count": 104,
   "id": "3967a9da-eeed-4a59-9135-73599bece4b2",
   "metadata": {},
   "outputs": [
    {
     "data": {
      "text/plain": [
       "False"
      ]
     },
     "execution_count": 104,
     "metadata": {},
     "output_type": "execute_result"
    }
   ],
   "source": [
    "'a' not in name"
   ]
  },
  {
   "cell_type": "code",
   "execution_count": 105,
   "id": "01a126ad-233a-49b2-a7b6-b11501a4e6fd",
   "metadata": {},
   "outputs": [],
   "source": [
    "array = [45,11,23,65,47,63,17]"
   ]
  },
  {
   "cell_type": "code",
   "execution_count": 106,
   "id": "53605bcd-5ae4-4b97-90c7-66433bb86dff",
   "metadata": {},
   "outputs": [
    {
     "data": {
      "text/plain": [
       "True"
      ]
     },
     "execution_count": 106,
     "metadata": {},
     "output_type": "execute_result"
    }
   ],
   "source": [
    "11 in array"
   ]
  },
  {
   "cell_type": "code",
   "execution_count": 107,
   "id": "0e7c5ca8-fee1-4d36-aeee-7e95efec46a2",
   "metadata": {},
   "outputs": [
    {
     "data": {
      "text/plain": [
       "True"
      ]
     },
     "execution_count": 107,
     "metadata": {},
     "output_type": "execute_result"
    }
   ],
   "source": [
    "48 not in array"
   ]
  },
  {
   "cell_type": "code",
   "execution_count": 108,
   "id": "e0b1c91a-0111-4204-8d87-7eb3a9fbf65e",
   "metadata": {},
   "outputs": [
    {
     "data": {
      "text/plain": [
       "True"
      ]
     },
     "execution_count": 108,
     "metadata": {},
     "output_type": "execute_result"
    }
   ],
   "source": [
    "'ar' in name"
   ]
  },
  {
   "cell_type": "markdown",
   "id": "81c301ec-2eaf-428f-acca-c26da6377a2a",
   "metadata": {},
   "source": [
    "##### Bitwise Operators"
   ]
  },
  {
   "cell_type": "code",
   "execution_count": 111,
   "id": "16b8b86a-7079-477b-bb43-2e22cefe73ac",
   "metadata": {},
   "outputs": [
    {
     "data": {
      "text/plain": [
       "0"
      ]
     },
     "execution_count": 111,
     "metadata": {},
     "output_type": "execute_result"
    }
   ],
   "source": [
    "5 & 8"
   ]
  },
  {
   "cell_type": "code",
   "execution_count": 112,
   "id": "e048f169-0bf3-41c9-bcb8-a5e963401531",
   "metadata": {},
   "outputs": [
    {
     "data": {
      "text/plain": [
       "1"
      ]
     },
     "execution_count": 112,
     "metadata": {},
     "output_type": "execute_result"
    }
   ],
   "source": [
    "5 & 11"
   ]
  },
  {
   "cell_type": "code",
   "execution_count": 113,
   "id": "9389e891-a5e3-419a-8931-ec7fee1a0f1f",
   "metadata": {},
   "outputs": [
    {
     "data": {
      "text/plain": [
       "8"
      ]
     },
     "execution_count": 113,
     "metadata": {},
     "output_type": "execute_result"
    }
   ],
   "source": [
    "0b1001 & 0b1010"
   ]
  },
  {
   "cell_type": "code",
   "execution_count": 114,
   "id": "e72efb9b-cdd3-461a-8876-645096ae9938",
   "metadata": {},
   "outputs": [
    {
     "data": {
      "text/plain": [
       "15"
      ]
     },
     "execution_count": 114,
     "metadata": {},
     "output_type": "execute_result"
    }
   ],
   "source": [
    "5 | 11"
   ]
  },
  {
   "cell_type": "code",
   "execution_count": 115,
   "id": "afaeb7d2-eca7-4df2-831a-6db9149b7afb",
   "metadata": {},
   "outputs": [
    {
     "data": {
      "text/plain": [
       "14"
      ]
     },
     "execution_count": 115,
     "metadata": {},
     "output_type": "execute_result"
    }
   ],
   "source": [
    "5 ^ 11"
   ]
  },
  {
   "cell_type": "code",
   "execution_count": 116,
   "id": "51285b8b-bee9-4350-9a96-f3ef1365d70e",
   "metadata": {},
   "outputs": [
    {
     "data": {
      "text/plain": [
       "10"
      ]
     },
     "execution_count": 116,
     "metadata": {},
     "output_type": "execute_result"
    }
   ],
   "source": [
    "# Left shift\n",
    "5 << 1"
   ]
  },
  {
   "cell_type": "code",
   "execution_count": 118,
   "id": "e059d7af-a31b-4a0e-9804-7e380a7e2ec9",
   "metadata": {},
   "outputs": [
    {
     "data": {
      "text/plain": [
       "10"
      ]
     },
     "execution_count": 118,
     "metadata": {},
     "output_type": "execute_result"
    }
   ],
   "source": [
    "0b10100 >> 1"
   ]
  },
  {
   "cell_type": "code",
   "execution_count": 119,
   "id": "9310e144-6620-4842-b313-6779317898ea",
   "metadata": {},
   "outputs": [
    {
     "data": {
      "text/plain": [
       "20"
      ]
     },
     "execution_count": 119,
     "metadata": {},
     "output_type": "execute_result"
    }
   ],
   "source": [
    "30 + 10 // 2 - 5 * 3"
   ]
  },
  {
   "cell_type": "code",
   "execution_count": 120,
   "id": "8da65ec9-1cd8-4f3f-9df9-ac6cfc98ab21",
   "metadata": {},
   "outputs": [
    {
     "data": {
      "text/plain": [
       "-90"
      ]
     },
     "execution_count": 120,
     "metadata": {},
     "output_type": "execute_result"
    }
   ],
   "source": [
    "30 + 10 // 2 - 5 ** 3"
   ]
  },
  {
   "cell_type": "markdown",
   "id": "414655f9-e509-47bd-ab5d-31b73b28f72b",
   "metadata": {},
   "source": [
    "##### Special data types"
   ]
  },
  {
   "cell_type": "code",
   "execution_count": 122,
   "id": "b6a4efe4-19f8-4d67-a879-8805ed47eb0e",
   "metadata": {},
   "outputs": [],
   "source": [
    "c = 5.6 + 7j"
   ]
  },
  {
   "cell_type": "code",
   "execution_count": 123,
   "id": "b1be28e5-ba2d-4f60-8bda-452ea6c5f380",
   "metadata": {},
   "outputs": [
    {
     "data": {
      "text/plain": [
       "(5.6+7j)"
      ]
     },
     "execution_count": 123,
     "metadata": {},
     "output_type": "execute_result"
    }
   ],
   "source": [
    "c"
   ]
  },
  {
   "cell_type": "code",
   "execution_count": 124,
   "id": "127299d6-4326-482d-8d4c-ce010c8b9da1",
   "metadata": {},
   "outputs": [
    {
     "data": {
      "text/plain": [
       "complex"
      ]
     },
     "execution_count": 124,
     "metadata": {},
     "output_type": "execute_result"
    }
   ],
   "source": [
    "type(c)"
   ]
  },
  {
   "cell_type": "code",
   "execution_count": 125,
   "id": "a924f4db-cf38-4f70-bfec-4afef1383a67",
   "metadata": {},
   "outputs": [],
   "source": [
    "num = None"
   ]
  },
  {
   "cell_type": "code",
   "execution_count": 126,
   "id": "eb4f949b-b47c-48e0-b415-6572a043f514",
   "metadata": {},
   "outputs": [],
   "source": [
    "num"
   ]
  },
  {
   "cell_type": "code",
   "execution_count": 127,
   "id": "0fb3b532-567f-4098-940e-bab5400287b4",
   "metadata": {},
   "outputs": [
    {
     "data": {
      "text/plain": [
       "NoneType"
      ]
     },
     "execution_count": 127,
     "metadata": {},
     "output_type": "execute_result"
    }
   ],
   "source": [
    "type(num)"
   ]
  },
  {
   "cell_type": "markdown",
   "id": "a785f5c9-3534-4792-b05c-58bbf4350957",
   "metadata": {},
   "source": [
    "##### Type Conversion / Type Casting"
   ]
  },
  {
   "cell_type": "code",
   "execution_count": 129,
   "id": "9da61218-8350-457d-9ef2-4d2be912a1fa",
   "metadata": {},
   "outputs": [],
   "source": [
    "num1 = 56\n",
    "num2 = 67.34"
   ]
  },
  {
   "cell_type": "code",
   "execution_count": 130,
   "id": "f97476df-9c0d-4d40-ab46-73ba88d0db75",
   "metadata": {},
   "outputs": [],
   "source": [
    "add = num1 + num2"
   ]
  },
  {
   "cell_type": "code",
   "execution_count": 131,
   "id": "b8ddffa9-c96d-4f04-bd64-829cc5ff2340",
   "metadata": {},
   "outputs": [
    {
     "data": {
      "text/plain": [
       "123.34"
      ]
     },
     "execution_count": 131,
     "metadata": {},
     "output_type": "execute_result"
    }
   ],
   "source": [
    "add"
   ]
  },
  {
   "cell_type": "code",
   "execution_count": 132,
   "id": "762a64a9-2494-41c4-b5d0-a560015d8fe9",
   "metadata": {},
   "outputs": [],
   "source": [
    "add = num1 + int(num2)"
   ]
  },
  {
   "cell_type": "code",
   "execution_count": 133,
   "id": "6938060c-5aa0-403d-8f1d-d7279bcd4584",
   "metadata": {},
   "outputs": [
    {
     "data": {
      "text/plain": [
       "123"
      ]
     },
     "execution_count": 133,
     "metadata": {},
     "output_type": "execute_result"
    }
   ],
   "source": [
    "add"
   ]
  },
  {
   "cell_type": "code",
   "execution_count": 134,
   "id": "c4cceb67-9f82-4041-80a2-081d18e59345",
   "metadata": {},
   "outputs": [],
   "source": [
    "n = '123'"
   ]
  },
  {
   "cell_type": "code",
   "execution_count": 135,
   "id": "08ec557d-6659-45a4-8df1-1e63551aa297",
   "metadata": {},
   "outputs": [
    {
     "data": {
      "text/plain": [
       "str"
      ]
     },
     "execution_count": 135,
     "metadata": {},
     "output_type": "execute_result"
    }
   ],
   "source": [
    "type(n)"
   ]
  },
  {
   "cell_type": "code",
   "execution_count": 136,
   "id": "99f42dd4-e5fa-4b18-abd3-942d9d68fb7a",
   "metadata": {},
   "outputs": [
    {
     "data": {
      "text/plain": [
       "'123123123'"
      ]
     },
     "execution_count": 136,
     "metadata": {},
     "output_type": "execute_result"
    }
   ],
   "source": [
    "n * 3"
   ]
  },
  {
   "cell_type": "code",
   "execution_count": 137,
   "id": "e71d30be-855f-4502-913e-d8302fd93ba8",
   "metadata": {},
   "outputs": [
    {
     "data": {
      "text/plain": [
       "369"
      ]
     },
     "execution_count": 137,
     "metadata": {},
     "output_type": "execute_result"
    }
   ],
   "source": [
    "int(n) * 3"
   ]
  },
  {
   "cell_type": "code",
   "execution_count": 138,
   "id": "1eba92bf-51b1-4ab9-8949-63597282e557",
   "metadata": {},
   "outputs": [],
   "source": [
    "name = 'Tushar'\n",
    "marks = 76.44"
   ]
  },
  {
   "cell_type": "code",
   "execution_count": 139,
   "id": "60bef285-eb07-4336-b03b-710177185765",
   "metadata": {},
   "outputs": [
    {
     "ename": "TypeError",
     "evalue": "can only concatenate str (not \"float\") to str",
     "output_type": "error",
     "traceback": [
      "\u001b[0;31m---------------------------------------------------------------------------\u001b[0m",
      "\u001b[0;31mTypeError\u001b[0m                                 Traceback (most recent call last)",
      "Cell \u001b[0;32mIn[139], line 1\u001b[0m\n\u001b[0;32m----> 1\u001b[0m password \u001b[38;5;241m=\u001b[39m \u001b[43mname\u001b[49m\u001b[43m \u001b[49m\u001b[38;5;241;43m+\u001b[39;49m\u001b[43m \u001b[49m\u001b[43mmarks\u001b[49m\n",
      "\u001b[0;31mTypeError\u001b[0m: can only concatenate str (not \"float\") to str"
     ]
    }
   ],
   "source": [
    "password = name + marks"
   ]
  },
  {
   "cell_type": "code",
   "execution_count": 140,
   "id": "3c237f91-30df-4112-8527-51acbc508b74",
   "metadata": {},
   "outputs": [
    {
     "data": {
      "text/plain": [
       "'Tushar76.44'"
      ]
     },
     "execution_count": 140,
     "metadata": {},
     "output_type": "execute_result"
    }
   ],
   "source": [
    "password = name + str(marks)\n",
    "password"
   ]
  },
  {
   "cell_type": "markdown",
   "id": "287b2ca2-935e-4fc3-a603-a3287f188569",
   "metadata": {},
   "source": [
    "##### User input"
   ]
  },
  {
   "cell_type": "code",
   "execution_count": 142,
   "id": "ef8eea17-c7ec-4b93-bc13-a21ae096f14c",
   "metadata": {},
   "outputs": [
    {
     "name": "stdin",
     "output_type": "stream",
     "text": [
      "Enter the number: 56\n"
     ]
    },
    {
     "name": "stdout",
     "output_type": "stream",
     "text": [
      "Your number is : 56\n"
     ]
    }
   ],
   "source": [
    "num = input('Enter the number:')\n",
    "print('Your number is :', num)"
   ]
  },
  {
   "cell_type": "code",
   "execution_count": 143,
   "id": "83322b64-1310-46fd-b93e-57d4b6eaee56",
   "metadata": {},
   "outputs": [
    {
     "data": {
      "text/plain": [
       "'56'"
      ]
     },
     "execution_count": 143,
     "metadata": {},
     "output_type": "execute_result"
    }
   ],
   "source": [
    "num"
   ]
  },
  {
   "cell_type": "code",
   "execution_count": 144,
   "id": "56a16cf1-bda3-45ba-8e3b-415dc597abbc",
   "metadata": {},
   "outputs": [
    {
     "name": "stdin",
     "output_type": "stream",
     "text": [
      "Enter the number: 5\n"
     ]
    },
    {
     "name": "stdout",
     "output_type": "stream",
     "text": [
      "Square of number is : 25\n"
     ]
    }
   ],
   "source": [
    "num = int(input('Enter the number:'))\n",
    "print('Square of number is :', num ** 2)"
   ]
  },
  {
   "cell_type": "code",
   "execution_count": null,
   "id": "40a22beb-32eb-4fe2-9f8b-9f000eb45a0d",
   "metadata": {},
   "outputs": [],
   "source": []
  }
 ],
 "metadata": {
  "kernelspec": {
   "display_name": "Python 3 (ipykernel)",
   "language": "python",
   "name": "python3"
  },
  "language_info": {
   "codemirror_mode": {
    "name": "ipython",
    "version": 3
   },
   "file_extension": ".py",
   "mimetype": "text/x-python",
   "name": "python",
   "nbconvert_exporter": "python",
   "pygments_lexer": "ipython3",
   "version": "3.10.12"
  }
 },
 "nbformat": 4,
 "nbformat_minor": 5
}
