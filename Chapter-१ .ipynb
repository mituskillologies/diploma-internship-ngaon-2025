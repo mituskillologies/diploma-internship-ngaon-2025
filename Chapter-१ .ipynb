{
 "cells": [
  {
   "cell_type": "markdown",
   "id": "da35c19c-e543-4263-8722-a4fd140a782f",
   "metadata": {},
   "source": [
    "Program-1"
   ]
  },
  {
   "cell_type": "code",
   "execution_count": 1,
   "id": "d3f79059-0e10-4ab8-8807-09f66d15fe0e",
   "metadata": {},
   "outputs": [
    {
     "name": "stdout",
     "output_type": "stream",
     "text": [
      "ॲप्लिकेशन बंद झाले.\n"
     ]
    }
   ],
   "source": [
    "import tkinter as tk\n",
    "\n",
    "# मुख्य विंडो तयार करणे\n",
    "root = tk.Tk()\n",
    "\n",
    "# विंडोला शीर्षक देणे\n",
    "root.title(\"माझा पहिला ॲप\")\n",
    "\n",
    "# विंडोचा आकार आणि जागा निश्चित करणे\n",
    "root.geometry(\"600x400\")\n",
    "\n",
    "# इव्हेंट लूप सुरू करणे (हा नेहमी शेवटी असावा)\n",
    "root.mainloop()\n",
    "\n",
    "# ही ओळ विंडो बंद झाल्यानंतरच प्रिंट होईल\n",
    "print(\"ॲप्लिकेशन बंद झाले.\")"
   ]
  },
  {
   "cell_type": "code",
   "execution_count": 2,
   "id": "251f62ae-dbac-4e9a-bbd1-1ebddd75e933",
   "metadata": {},
   "outputs": [],
   "source": [
    "import tkinter as tk\n",
    "\n",
    "root = tk.Tk()\n",
    "root.title(\"Registration Form using Grid\")\n",
    "root.geometry(\"400x200\")\n",
    "\n",
    "# --- विजेट्स तयार करणे ---\n",
    "# शीर्षक लेबल\n",
    "title_label = tk.Label(root, text=\"User Registration Portal\", font=(\"Arial\", 18, \"bold\"), fg=\"darkblue\")\n",
    "\n",
    "# नाव\n",
    "name_label = tk.Label(root, text=\"Full Name:\")\n",
    "name_entry = tk.Entry(root, width=30)\n",
    "\n",
    "# ईमेल\n",
    "email_label = tk.Label(root, text=\"Email ID:\")\n",
    "email_entry = tk.Entry(root, width=30)\n",
    "\n",
    "# पासवर्ड\n",
    "password_label = tk.Label(root, text=\"Password:\")\n",
    "password_entry = tk.Entry(root, width=30, show=\"*\") # 'show' मजकूर लपवतो\n",
    "\n",
    "# बटण\n",
    "register_button = tk.Button(root, text=\"Register Now\", bg=\"green\", fg=\"white\", font=(\"Arial\", 12))\n",
    "\n",
    "\n",
    "# --- विजेट्सची grid वापरून मांडणी ---\n",
    "# शीर्षक: 2 स्तंभ व्यापेल\n",
    "title_label.grid(row=0, column=0, columnspan=2, pady=15)\n",
    "\n",
    "# नाव लेबल आणि एन्ट्री बॉक्स\n",
    "name_label.grid(row=1, column=0, sticky='w', padx=10)\n",
    "name_entry.grid(row=1, column=1, sticky='ew', padx=10)\n",
    "\n",
    "# ईमेल लेबल आणि एन्ट्री बॉक्स\n",
    "email_label.grid(row=2, column=0, sticky='w', padx=10, pady=5)\n",
    "email_entry.grid(row=2, column=1, sticky='ew', padx=10, pady=5)\n",
    "\n",
    "# पासवर्ड लेबल आणि एन्ट्री बॉक्स\n",
    "password_label.grid(row=3, column=0, sticky='w', padx=10)\n",
    "password_entry.grid(row=3, column=1, sticky='ew', padx=10)\n",
    "\n",
    "# बटण: 2 स्तंभ व्यापेल\n",
    "register_button.grid(row=4, column=0, columnspan=2, pady=20)\n",
    "\n",
    "root.mainloop()"
   ]
  },
  {
   "cell_type": "code",
   "execution_count": null,
   "id": "d0dbe948-a78e-4a2d-b0eb-4feb0b0fcf36",
   "metadata": {},
   "outputs": [],
   "source": []
  }
 ],
 "metadata": {
  "kernelspec": {
   "display_name": "Python 3 (ipykernel)",
   "language": "python",
   "name": "python3"
  },
  "language_info": {
   "codemirror_mode": {
    "name": "ipython",
    "version": 3
   },
   "file_extension": ".py",
   "mimetype": "text/x-python",
   "name": "python",
   "nbconvert_exporter": "python",
   "pygments_lexer": "ipython3",
   "version": "3.10.12"
  }
 },
 "nbformat": 4,
 "nbformat_minor": 5
}
