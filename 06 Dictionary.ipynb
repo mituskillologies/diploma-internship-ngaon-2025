{
 "cells": [
  {
   "cell_type": "markdown",
   "id": "3cce7415-dec0-4e1c-99bc-e928e4d7f209",
   "metadata": {},
   "source": [
    "##### Meaning"
   ]
  },
  {
   "cell_type": "markdown",
   "id": "e41b2e5e-e3f0-429b-9e3e-d5b6127e9273",
   "metadata": {},
   "source": [
    "A dictionary in Python is a built-in data structure that stores data in **key-value pairs**. Each key in a dictionary must be unique and immutable, such as a string, number, or tuple, while the value can be of any data type. \n",
    "Dictionaries are mutable, meaning their contents can be changed after creation. They are also unordered, so the order of items is not guaranteed. Dictionaries are created using curly braces {}.\n"
   ]
  },
  {
   "cell_type": "code",
   "execution_count": 2,
   "id": "394e0976-a97a-456b-9a5b-158dc9722177",
   "metadata": {},
   "outputs": [],
   "source": [
    "d = {1:45, 4:37, 5:49, 8:101}"
   ]
  },
  {
   "cell_type": "code",
   "execution_count": 3,
   "id": "99db929c-24ac-49c0-a5fc-f3961ebc9f39",
   "metadata": {},
   "outputs": [
    {
     "data": {
      "text/plain": [
       "dict"
      ]
     },
     "execution_count": 3,
     "metadata": {},
     "output_type": "execute_result"
    }
   ],
   "source": [
    "type(d)"
   ]
  },
  {
   "cell_type": "code",
   "execution_count": 4,
   "id": "1244c4ea-6aa5-4f77-9c33-b5dc571e012f",
   "metadata": {},
   "outputs": [
    {
     "data": {
      "text/plain": [
       "{1: 45, 4: 37, 5: 49, 8: 101}"
      ]
     },
     "execution_count": 4,
     "metadata": {},
     "output_type": "execute_result"
    }
   ],
   "source": [
    "d"
   ]
  },
  {
   "cell_type": "code",
   "execution_count": 5,
   "id": "166d8bef-2d6d-48dd-bd11-b9cf89d16ed0",
   "metadata": {},
   "outputs": [
    {
     "data": {
      "text/plain": [
       "49"
      ]
     },
     "execution_count": 5,
     "metadata": {},
     "output_type": "execute_result"
    }
   ],
   "source": [
    "d[5]"
   ]
  },
  {
   "cell_type": "code",
   "execution_count": 6,
   "id": "facd9669-a4ba-49a2-ba55-526477fa9143",
   "metadata": {},
   "outputs": [
    {
     "ename": "KeyError",
     "evalue": "2",
     "output_type": "error",
     "traceback": [
      "\u001b[0;31m---------------------------------------------------------------------------\u001b[0m",
      "\u001b[0;31mKeyError\u001b[0m                                  Traceback (most recent call last)",
      "Cell \u001b[0;32mIn[6], line 1\u001b[0m\n\u001b[0;32m----> 1\u001b[0m \u001b[43md\u001b[49m\u001b[43m[\u001b[49m\u001b[38;5;241;43m2\u001b[39;49m\u001b[43m]\u001b[49m\n",
      "\u001b[0;31mKeyError\u001b[0m: 2"
     ]
    }
   ],
   "source": [
    "d[2]"
   ]
  },
  {
   "cell_type": "code",
   "execution_count": 8,
   "id": "6e03032d-b71d-4ba9-a45f-864fe5b00aed",
   "metadata": {},
   "outputs": [],
   "source": [
    "alpha = {1:56, 3:67, 'pi': 3.14, 'a':'apple', 'b':'ball'}"
   ]
  },
  {
   "cell_type": "code",
   "execution_count": 9,
   "id": "dcd8ee46-e161-4c3d-89ae-acb75f8f4092",
   "metadata": {},
   "outputs": [
    {
     "data": {
      "text/plain": [
       "{1: 56, 3: 67, 'pi': 3.14, 'a': 'apple', 'b': 'ball'}"
      ]
     },
     "execution_count": 9,
     "metadata": {},
     "output_type": "execute_result"
    }
   ],
   "source": [
    "alpha"
   ]
  },
  {
   "cell_type": "code",
   "execution_count": 10,
   "id": "c3cc6268-239f-4bdd-8d34-043712dab504",
   "metadata": {},
   "outputs": [
    {
     "data": {
      "text/plain": [
       "'apple'"
      ]
     },
     "execution_count": 10,
     "metadata": {},
     "output_type": "execute_result"
    }
   ],
   "source": [
    "alpha['a']"
   ]
  },
  {
   "cell_type": "code",
   "execution_count": 11,
   "id": "9cffa9ab-77a8-4c9b-b2b5-55174696fbae",
   "metadata": {},
   "outputs": [
    {
     "data": {
      "text/plain": [
       "3.14"
      ]
     },
     "execution_count": 11,
     "metadata": {},
     "output_type": "execute_result"
    }
   ],
   "source": [
    "alpha['pi']"
   ]
  },
  {
   "cell_type": "code",
   "execution_count": 12,
   "id": "ace0411a-cf85-4a4c-b4a1-3f9787e15b5a",
   "metadata": {},
   "outputs": [],
   "source": [
    "alpha['b'] = 'bat'"
   ]
  },
  {
   "cell_type": "code",
   "execution_count": 13,
   "id": "9b87fee9-de39-4442-a85d-01806dce4d01",
   "metadata": {},
   "outputs": [
    {
     "data": {
      "text/plain": [
       "{1: 56, 3: 67, 'pi': 3.14, 'a': 'apple', 'b': 'bat'}"
      ]
     },
     "execution_count": 13,
     "metadata": {},
     "output_type": "execute_result"
    }
   ],
   "source": [
    "alpha"
   ]
  },
  {
   "cell_type": "code",
   "execution_count": 14,
   "id": "b7d3d477-2e5b-4f73-a89b-eb9618601dc8",
   "metadata": {},
   "outputs": [],
   "source": [
    "alpha['z'] = 'zebra'"
   ]
  },
  {
   "cell_type": "code",
   "execution_count": 15,
   "id": "103a6b9f-7f84-428a-afef-54593c37e296",
   "metadata": {},
   "outputs": [
    {
     "data": {
      "text/plain": [
       "{1: 56, 3: 67, 'pi': 3.14, 'a': 'apple', 'b': 'bat', 'z': 'zebra'}"
      ]
     },
     "execution_count": 15,
     "metadata": {},
     "output_type": "execute_result"
    }
   ],
   "source": [
    "alpha"
   ]
  },
  {
   "cell_type": "code",
   "execution_count": 16,
   "id": "82c77cd9-fa48-4847-ae23-fd86faeb1428",
   "metadata": {},
   "outputs": [
    {
     "data": {
      "text/plain": [
       "dict_keys([1, 3, 'pi', 'a', 'b', 'z'])"
      ]
     },
     "execution_count": 16,
     "metadata": {},
     "output_type": "execute_result"
    }
   ],
   "source": [
    "alpha.keys()"
   ]
  },
  {
   "cell_type": "code",
   "execution_count": 17,
   "id": "01de90de-37d8-4dfc-990e-418c80849cf7",
   "metadata": {},
   "outputs": [
    {
     "data": {
      "text/plain": [
       "[1, 3, 'pi', 'a', 'b', 'z']"
      ]
     },
     "execution_count": 17,
     "metadata": {},
     "output_type": "execute_result"
    }
   ],
   "source": [
    "list(alpha.keys())"
   ]
  },
  {
   "cell_type": "code",
   "execution_count": 18,
   "id": "ec0934a1-a717-4d0f-9533-34242328d056",
   "metadata": {},
   "outputs": [
    {
     "data": {
      "text/plain": [
       "[56, 67, 3.14, 'apple', 'bat', 'zebra']"
      ]
     },
     "execution_count": 18,
     "metadata": {},
     "output_type": "execute_result"
    }
   ],
   "source": [
    "list(alpha.values())"
   ]
  },
  {
   "cell_type": "code",
   "execution_count": 19,
   "id": "f0210e0b-eed1-4ec0-a0e3-0da3bda532f8",
   "metadata": {},
   "outputs": [
    {
     "data": {
      "text/plain": [
       "[(1, 56), (3, 67), ('pi', 3.14), ('a', 'apple'), ('b', 'bat'), ('z', 'zebra')]"
      ]
     },
     "execution_count": 19,
     "metadata": {},
     "output_type": "execute_result"
    }
   ],
   "source": [
    "list(alpha.items())"
   ]
  },
  {
   "cell_type": "code",
   "execution_count": 20,
   "id": "db763f7a-a4be-4745-847e-2372b5c70800",
   "metadata": {},
   "outputs": [
    {
     "data": {
      "text/plain": [
       "56"
      ]
     },
     "execution_count": 20,
     "metadata": {},
     "output_type": "execute_result"
    }
   ],
   "source": [
    "alpha.get(1)"
   ]
  },
  {
   "cell_type": "code",
   "execution_count": null,
   "id": "4d1ffc39-f3ab-42b2-9c4b-a94677280b74",
   "metadata": {},
   "outputs": [],
   "source": []
  }
 ],
 "metadata": {
  "kernelspec": {
   "display_name": "Python 3 (ipykernel)",
   "language": "python",
   "name": "python3"
  },
  "language_info": {
   "codemirror_mode": {
    "name": "ipython",
    "version": 3
   },
   "file_extension": ".py",
   "mimetype": "text/x-python",
   "name": "python",
   "nbconvert_exporter": "python",
   "pygments_lexer": "ipython3",
   "version": "3.10.12"
  }
 },
 "nbformat": 4,
 "nbformat_minor": 5
}
