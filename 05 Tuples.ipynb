{
 "cells": [
  {
   "cell_type": "markdown",
   "id": "210b4e17-d3de-4896-9b36-9bbebe6119fd",
   "metadata": {},
   "source": [
    "##### Creating a tuple"
   ]
  },
  {
   "cell_type": "code",
   "execution_count": 2,
   "id": "25e4e3cd-a0fa-4d64-9931-bbec230443aa",
   "metadata": {},
   "outputs": [],
   "source": [
    "t = (12, 43,65,83,27,20,80,71)"
   ]
  },
  {
   "cell_type": "code",
   "execution_count": 3,
   "id": "2432d858-6ede-4e5e-8d32-e48f01517489",
   "metadata": {},
   "outputs": [
    {
     "data": {
      "text/plain": [
       "tuple"
      ]
     },
     "execution_count": 3,
     "metadata": {},
     "output_type": "execute_result"
    }
   ],
   "source": [
    "type(t)"
   ]
  },
  {
   "cell_type": "code",
   "execution_count": 4,
   "id": "01a314d5-891c-456f-bc33-72d0057d636c",
   "metadata": {},
   "outputs": [],
   "source": [
    "x = [4,6,5,7,2,1,3]"
   ]
  },
  {
   "cell_type": "code",
   "execution_count": 5,
   "id": "2cb368c6-0e3b-4e29-95bc-2a51eb2e080c",
   "metadata": {},
   "outputs": [],
   "source": [
    "t1 = tuple(x)"
   ]
  },
  {
   "cell_type": "code",
   "execution_count": 6,
   "id": "cb51d6bb-bbc9-417d-9324-b4cba1f8da98",
   "metadata": {},
   "outputs": [
    {
     "data": {
      "text/plain": [
       "(4, 6, 5, 7, 2, 1, 3)"
      ]
     },
     "execution_count": 6,
     "metadata": {},
     "output_type": "execute_result"
    }
   ],
   "source": [
    "t1"
   ]
  },
  {
   "cell_type": "code",
   "execution_count": 7,
   "id": "10560c17-4be9-4c43-9178-1530fd4b14a3",
   "metadata": {},
   "outputs": [
    {
     "data": {
      "text/plain": [
       "27"
      ]
     },
     "execution_count": 7,
     "metadata": {},
     "output_type": "execute_result"
    }
   ],
   "source": [
    "t[4]"
   ]
  },
  {
   "cell_type": "code",
   "execution_count": 8,
   "id": "b2cd36ec-b9ab-4990-a020-7f96968ecac3",
   "metadata": {},
   "outputs": [
    {
     "ename": "TypeError",
     "evalue": "'tuple' object does not support item assignment",
     "output_type": "error",
     "traceback": [
      "\u001b[0;31m---------------------------------------------------------------------------\u001b[0m",
      "\u001b[0;31mTypeError\u001b[0m                                 Traceback (most recent call last)",
      "Cell \u001b[0;32mIn[8], line 1\u001b[0m\n\u001b[0;32m----> 1\u001b[0m \u001b[43mt\u001b[49m\u001b[43m[\u001b[49m\u001b[38;5;241;43m4\u001b[39;49m\u001b[43m]\u001b[49m \u001b[38;5;241m=\u001b[39m \u001b[38;5;241m72\u001b[39m\n",
      "\u001b[0;31mTypeError\u001b[0m: 'tuple' object does not support item assignment"
     ]
    }
   ],
   "source": [
    "t[4] = 72"
   ]
  },
  {
   "cell_type": "code",
   "execution_count": 9,
   "id": "120cb113-fce8-4213-b7f9-9fbd0022a548",
   "metadata": {},
   "outputs": [],
   "source": [
    "data = (1, 'Vijay', 78.56)"
   ]
  },
  {
   "cell_type": "code",
   "execution_count": 10,
   "id": "2734e7b4-889a-49af-9bdf-10c84f04eb8c",
   "metadata": {},
   "outputs": [
    {
     "data": {
      "text/plain": [
       "(1, 'Vijay', 78.56)"
      ]
     },
     "execution_count": 10,
     "metadata": {},
     "output_type": "execute_result"
    }
   ],
   "source": [
    "data"
   ]
  },
  {
   "cell_type": "code",
   "execution_count": 11,
   "id": "00644010-e39d-4203-9f7e-1c0560d464aa",
   "metadata": {},
   "outputs": [],
   "source": [
    "data2 = (1, 'Vijay', 78.56, [56768,12334])"
   ]
  },
  {
   "cell_type": "code",
   "execution_count": 12,
   "id": "90c58fe8-8ff3-4d23-8b2a-1ffc3637952b",
   "metadata": {},
   "outputs": [
    {
     "data": {
      "text/plain": [
       "(1, 'Vijay', 78.56, [56768, 12334])"
      ]
     },
     "execution_count": 12,
     "metadata": {},
     "output_type": "execute_result"
    }
   ],
   "source": [
    "data2"
   ]
  },
  {
   "cell_type": "code",
   "execution_count": 13,
   "id": "8fc50aa2-ec8d-4c4e-ac0c-5f57bf93aa0c",
   "metadata": {},
   "outputs": [
    {
     "data": {
      "text/plain": [
       "(12, 43, 65, 83, 27, 20, 80, 71)"
      ]
     },
     "execution_count": 13,
     "metadata": {},
     "output_type": "execute_result"
    }
   ],
   "source": [
    "t"
   ]
  },
  {
   "cell_type": "code",
   "execution_count": 14,
   "id": "6cef8823-5257-46d5-bc12-86c8728f812a",
   "metadata": {},
   "outputs": [
    {
     "data": {
      "text/plain": [
       "(65, 83, 27)"
      ]
     },
     "execution_count": 14,
     "metadata": {},
     "output_type": "execute_result"
    }
   ],
   "source": [
    "t[2:5]"
   ]
  },
  {
   "cell_type": "code",
   "execution_count": 15,
   "id": "8dc3556e-faff-4153-91fa-8b202d374ad6",
   "metadata": {},
   "outputs": [
    {
     "data": {
      "text/plain": [
       "(65, 83, 27, 20, 80, 71)"
      ]
     },
     "execution_count": 15,
     "metadata": {},
     "output_type": "execute_result"
    }
   ],
   "source": [
    "t[2:]"
   ]
  },
  {
   "cell_type": "code",
   "execution_count": 16,
   "id": "af767a37-94f0-40a8-90b3-8540588599a4",
   "metadata": {},
   "outputs": [
    {
     "data": {
      "text/plain": [
       "(12, 43, 65, 83, 27)"
      ]
     },
     "execution_count": 16,
     "metadata": {},
     "output_type": "execute_result"
    }
   ],
   "source": [
    "t[:5]"
   ]
  },
  {
   "cell_type": "code",
   "execution_count": 17,
   "id": "193af887-eb0e-4d9d-aa50-5ec7847d9d45",
   "metadata": {},
   "outputs": [
    {
     "data": {
      "text/plain": [
       "80"
      ]
     },
     "execution_count": 17,
     "metadata": {},
     "output_type": "execute_result"
    }
   ],
   "source": [
    "t[-2]"
   ]
  },
  {
   "cell_type": "code",
   "execution_count": 18,
   "id": "08c28bca-af01-46a0-a87f-716962b48704",
   "metadata": {},
   "outputs": [
    {
     "data": {
      "text/plain": [
       "True"
      ]
     },
     "execution_count": 18,
     "metadata": {},
     "output_type": "execute_result"
    }
   ],
   "source": [
    "43 in t"
   ]
  },
  {
   "cell_type": "code",
   "execution_count": 19,
   "id": "7da1b9bb-696d-49ab-98e5-2e2f9e92881a",
   "metadata": {},
   "outputs": [
    {
     "data": {
      "text/plain": [
       "False"
      ]
     },
     "execution_count": 19,
     "metadata": {},
     "output_type": "execute_result"
    }
   ],
   "source": [
    "45 in t"
   ]
  },
  {
   "cell_type": "code",
   "execution_count": 20,
   "id": "237821e3-b97c-439a-9ee2-0349b8a4db1b",
   "metadata": {},
   "outputs": [
    {
     "name": "stdout",
     "output_type": "stream",
     "text": [
      "12\n",
      "43\n",
      "65\n",
      "83\n",
      "27\n",
      "20\n",
      "80\n",
      "71\n"
     ]
    }
   ],
   "source": [
    "for x in t:\n",
    "    print(x)"
   ]
  },
  {
   "cell_type": "code",
   "execution_count": 21,
   "id": "2cdfe443-e7f5-4970-95d9-c0547d563760",
   "metadata": {},
   "outputs": [
    {
     "data": {
      "text/plain": [
       "8"
      ]
     },
     "execution_count": 21,
     "metadata": {},
     "output_type": "execute_result"
    }
   ],
   "source": [
    "len(t)"
   ]
  },
  {
   "cell_type": "code",
   "execution_count": 22,
   "id": "62ba3c61-f213-4939-87e5-098ccd9d9377",
   "metadata": {},
   "outputs": [
    {
     "data": {
      "text/plain": [
       "83"
      ]
     },
     "execution_count": 22,
     "metadata": {},
     "output_type": "execute_result"
    }
   ],
   "source": [
    "max(t)"
   ]
  },
  {
   "cell_type": "code",
   "execution_count": 23,
   "id": "10fa24d2-8992-4142-b8e8-151236a24163",
   "metadata": {},
   "outputs": [
    {
     "data": {
      "text/plain": [
       "12"
      ]
     },
     "execution_count": 23,
     "metadata": {},
     "output_type": "execute_result"
    }
   ],
   "source": [
    "min(t)"
   ]
  },
  {
   "cell_type": "code",
   "execution_count": 24,
   "id": "103b1e27-c321-4fbc-a222-6281c41a2c2c",
   "metadata": {},
   "outputs": [
    {
     "data": {
      "text/plain": [
       "[12, 20, 27, 43, 65, 71, 80, 83]"
      ]
     },
     "execution_count": 24,
     "metadata": {},
     "output_type": "execute_result"
    }
   ],
   "source": [
    "sorted(t)"
   ]
  },
  {
   "cell_type": "code",
   "execution_count": 25,
   "id": "2621d764-952e-43cc-b9af-a92c18af7c48",
   "metadata": {},
   "outputs": [
    {
     "data": {
      "text/plain": [
       "[12, 43, 65, 83, 27, 20, 80, 71]"
      ]
     },
     "execution_count": 25,
     "metadata": {},
     "output_type": "execute_result"
    }
   ],
   "source": [
    "list(t)"
   ]
  },
  {
   "cell_type": "code",
   "execution_count": 26,
   "id": "fcef60b1-301d-4b3a-aecc-e40cfc868440",
   "metadata": {},
   "outputs": [],
   "source": [
    "name = 'Tushar'"
   ]
  },
  {
   "cell_type": "code",
   "execution_count": 27,
   "id": "9f908e3a-98f5-4b54-bf2f-e5e477be187b",
   "metadata": {},
   "outputs": [
    {
     "data": {
      "text/plain": [
       "('T', 'u', 's', 'h', 'a', 'r')"
      ]
     },
     "execution_count": 27,
     "metadata": {},
     "output_type": "execute_result"
    }
   ],
   "source": [
    "tuple(name)"
   ]
  },
  {
   "cell_type": "code",
   "execution_count": 28,
   "id": "36a9b275-3be1-4f9b-b1e6-458888cfb856",
   "metadata": {},
   "outputs": [
    {
     "data": {
      "text/plain": [
       "(4, 6, 5, 7, 2, 1, 3, 12, 43, 65, 83, 27, 20, 80, 71)"
      ]
     },
     "execution_count": 28,
     "metadata": {},
     "output_type": "execute_result"
    }
   ],
   "source": [
    "t1 + t"
   ]
  },
  {
   "cell_type": "code",
   "execution_count": 29,
   "id": "eb397ed4-d023-48d8-aebe-8b5ae51a57bb",
   "metadata": {},
   "outputs": [],
   "source": [
    "t2 = t1 + t"
   ]
  },
  {
   "cell_type": "code",
   "execution_count": 30,
   "id": "8e929024-8ea8-4717-afe3-9d96198af74c",
   "metadata": {},
   "outputs": [
    {
     "data": {
      "text/plain": [
       "(4, 6, 5, 7, 2, 1, 3, 12, 43, 65, 83, 27, 20, 80, 71)"
      ]
     },
     "execution_count": 30,
     "metadata": {},
     "output_type": "execute_result"
    }
   ],
   "source": [
    "t2"
   ]
  },
  {
   "cell_type": "markdown",
   "id": "cbd1ecdb-93a0-47a3-ad77-6ec145f1288e",
   "metadata": {},
   "source": [
    "##### Tuple methods"
   ]
  },
  {
   "cell_type": "code",
   "execution_count": 32,
   "id": "d7a68f1f-186a-4d9d-9abd-50484bb42491",
   "metadata": {},
   "outputs": [
    {
     "data": {
      "text/plain": [
       "(12, 43, 65, 83, 27, 20, 80, 71)"
      ]
     },
     "execution_count": 32,
     "metadata": {},
     "output_type": "execute_result"
    }
   ],
   "source": [
    "t"
   ]
  },
  {
   "cell_type": "code",
   "execution_count": 33,
   "id": "fc70a091-42ea-4956-b321-207acf5250b6",
   "metadata": {},
   "outputs": [
    {
     "data": {
      "text/plain": [
       "1"
      ]
     },
     "execution_count": 33,
     "metadata": {},
     "output_type": "execute_result"
    }
   ],
   "source": [
    "t.count(43)"
   ]
  },
  {
   "cell_type": "code",
   "execution_count": 34,
   "id": "9d3d56e5-56f9-4747-9080-e58e881c07d4",
   "metadata": {},
   "outputs": [
    {
     "data": {
      "text/plain": [
       "0"
      ]
     },
     "execution_count": 34,
     "metadata": {},
     "output_type": "execute_result"
    }
   ],
   "source": [
    "t.index(12)"
   ]
  },
  {
   "cell_type": "code",
   "execution_count": 35,
   "id": "532261c7-bd72-4f32-a690-c516218f2bb5",
   "metadata": {},
   "outputs": [
    {
     "ename": "AttributeError",
     "evalue": "'tuple' object has no attribute 'append'",
     "output_type": "error",
     "traceback": [
      "\u001b[0;31m---------------------------------------------------------------------------\u001b[0m",
      "\u001b[0;31mAttributeError\u001b[0m                            Traceback (most recent call last)",
      "Cell \u001b[0;32mIn[35], line 1\u001b[0m\n\u001b[0;32m----> 1\u001b[0m \u001b[43mt\u001b[49m\u001b[38;5;241;43m.\u001b[39;49m\u001b[43mappend\u001b[49m(\u001b[38;5;241m12\u001b[39m)\n",
      "\u001b[0;31mAttributeError\u001b[0m: 'tuple' object has no attribute 'append'"
     ]
    }
   ],
   "source": [
    "t.append(12)"
   ]
  },
  {
   "cell_type": "markdown",
   "id": "df17d1fa-6a3e-4484-ab3c-9d2ff073b05d",
   "metadata": {},
   "source": [
    "##### Sample application of tuple"
   ]
  },
  {
   "cell_type": "code",
   "execution_count": 40,
   "id": "0bedfd78-1fbe-4348-9469-ce0f363950b9",
   "metadata": {},
   "outputs": [
    {
     "name": "stdin",
     "output_type": "stream",
     "text": [
      "How many students?  3\n",
      "Enter roll:  1\n",
      "Enter name:  Ajay\n",
      "Enter marks:  78.45\n",
      "Enter roll:  2\n",
      "Enter name:  Priya\n",
      "Enter marks:  67.45\n",
      "Enter roll:  3\n",
      "Enter name:  Vijay\n",
      "Enter marks:  71.23\n"
     ]
    }
   ],
   "source": [
    "total = int(input('How many students? '))\n",
    "stud = []\n",
    "\n",
    "for i in range(total):\n",
    "    roll = int(input('Enter roll: '))\n",
    "    name = input('Enter name: ')\n",
    "    marks = float(input('Enter marks: '))\n",
    "    data = (roll, name, marks)\n",
    "    stud.append(data)"
   ]
  },
  {
   "cell_type": "code",
   "execution_count": 41,
   "id": "2fd03dfb-379d-4448-8e13-abb1e012901b",
   "metadata": {},
   "outputs": [
    {
     "data": {
      "text/plain": [
       "[(1, 'Ajay', 78.45), (2, 'Priya', 67.45), (3, 'Vijay', 71.23)]"
      ]
     },
     "execution_count": 41,
     "metadata": {},
     "output_type": "execute_result"
    }
   ],
   "source": [
    "stud"
   ]
  },
  {
   "cell_type": "code",
   "execution_count": 43,
   "id": "8c48ba2d-f572-4260-8cdd-485559976dd0",
   "metadata": {},
   "outputs": [
    {
     "name": "stdout",
     "output_type": "stream",
     "text": [
      "1 Ajay 78.45\n",
      "2 Priya 67.45\n",
      "3 Vijay 71.23\n"
     ]
    }
   ],
   "source": [
    "for s in stud:\n",
    "    print(s[0],s[1],s[2])"
   ]
  },
  {
   "cell_type": "code",
   "execution_count": 48,
   "id": "37b55bb4-b9b9-481d-93c6-564b1368ba77",
   "metadata": {},
   "outputs": [
    {
     "name": "stdout",
     "output_type": "stream",
     "text": [
      "1    Ajay      78.45\n",
      "2    Priya     67.45\n",
      "3    Vijay     71.23\n"
     ]
    }
   ],
   "source": [
    "for s in stud:\n",
    "    print(\"%-5d%-10s%-2.2f\" %(s[0],s[1],s[2]))"
   ]
  },
  {
   "cell_type": "code",
   "execution_count": null,
   "id": "ef86b1d6-fbfa-4633-ba1b-9af6a02eb1e7",
   "metadata": {},
   "outputs": [],
   "source": []
  }
 ],
 "metadata": {
  "kernelspec": {
   "display_name": "Python 3 (ipykernel)",
   "language": "python",
   "name": "python3"
  },
  "language_info": {
   "codemirror_mode": {
    "name": "ipython",
    "version": 3
   },
   "file_extension": ".py",
   "mimetype": "text/x-python",
   "name": "python",
   "nbconvert_exporter": "python",
   "pygments_lexer": "ipython3",
   "version": "3.10.12"
  }
 },
 "nbformat": 4,
 "nbformat_minor": 5
}
