{
 "cells": [
  {
   "cell_type": "markdown",
   "id": "f7015280-1b27-494b-991a-312e4235f72f",
   "metadata": {},
   "source": [
    "##### Simple Function"
   ]
  },
  {
   "cell_type": "code",
   "execution_count": 2,
   "id": "1b126f85-a261-4fd6-adb9-fcb706fc133a",
   "metadata": {},
   "outputs": [],
   "source": [
    "# Function Definition\n",
    "def display():\n",
    "    print('Hello World')"
   ]
  },
  {
   "cell_type": "code",
   "execution_count": 3,
   "id": "3075fc10-5982-41ed-910a-e07d5f9cb58a",
   "metadata": {},
   "outputs": [
    {
     "name": "stdout",
     "output_type": "stream",
     "text": [
      "Hello World\n"
     ]
    }
   ],
   "source": [
    "# Function call\n",
    "display()"
   ]
  },
  {
   "cell_type": "code",
   "execution_count": 4,
   "id": "dfeb3f50-a3e0-49d7-b7fc-75c14eace731",
   "metadata": {},
   "outputs": [],
   "source": [
    "# Function Definition\n",
    "def display():\n",
    "    print('Hello World')\n",
    "    print('Welcome!')\n",
    "    print('Hi')"
   ]
  },
  {
   "cell_type": "code",
   "execution_count": 5,
   "id": "7ac3b7d7-e46d-4544-a4b4-97cb7da5b835",
   "metadata": {},
   "outputs": [
    {
     "name": "stdout",
     "output_type": "stream",
     "text": [
      "Hello World\n",
      "Welcome!\n",
      "Hi\n"
     ]
    }
   ],
   "source": [
    "display()"
   ]
  },
  {
   "cell_type": "code",
   "execution_count": 6,
   "id": "b88d9d0a-3e2d-4339-a88e-38f666ff736b",
   "metadata": {},
   "outputs": [
    {
     "name": "stdout",
     "output_type": "stream",
     "text": [
      "Hello World\n",
      "Welcome!\n",
      "Hi\n",
      "Hello World\n",
      "Welcome!\n",
      "Hi\n",
      "Hello World\n",
      "Welcome!\n",
      "Hi\n"
     ]
    }
   ],
   "source": [
    "display()\n",
    "display()\n",
    "display()"
   ]
  },
  {
   "cell_type": "code",
   "execution_count": 8,
   "id": "870f54b4-f48c-4e82-94ce-26c75354af28",
   "metadata": {},
   "outputs": [],
   "source": [
    "# Create and call the function \"show\" to print \"Hello <your name>\""
   ]
  },
  {
   "cell_type": "markdown",
   "id": "5b926761-f0f0-4318-82f9-b8c00a0317ad",
   "metadata": {},
   "source": [
    "##### Parameterized function"
   ]
  },
  {
   "cell_type": "code",
   "execution_count": 10,
   "id": "12201b93-37a9-4004-a6a6-7192ecce46e0",
   "metadata": {},
   "outputs": [],
   "source": [
    "def hello(name):\n",
    "    print('Hello', name)"
   ]
  },
  {
   "cell_type": "code",
   "execution_count": 11,
   "id": "9da9d6ed-5529-4011-b35f-fb1c6c0b797b",
   "metadata": {},
   "outputs": [
    {
     "name": "stdout",
     "output_type": "stream",
     "text": [
      "Hello Tushar\n"
     ]
    }
   ],
   "source": [
    "hello('Tushar')"
   ]
  },
  {
   "cell_type": "code",
   "execution_count": 12,
   "id": "e47387c1-3780-4426-a5b1-5ccd7f15b7d8",
   "metadata": {},
   "outputs": [],
   "source": [
    "def mult(x, y):\n",
    "    result = x * y\n",
    "    print('Multiplication is', result)"
   ]
  },
  {
   "cell_type": "code",
   "execution_count": 13,
   "id": "e7d98ced-7b2b-4f3d-a968-1363f34f7c53",
   "metadata": {},
   "outputs": [
    {
     "name": "stdout",
     "output_type": "stream",
     "text": [
      "Multiplication is 30\n"
     ]
    }
   ],
   "source": [
    "mult(5,6)"
   ]
  },
  {
   "cell_type": "code",
   "execution_count": 14,
   "id": "aed74a31-385b-4819-875f-3d0787d1391c",
   "metadata": {},
   "outputs": [
    {
     "name": "stdin",
     "output_type": "stream",
     "text": [
      "Enter first number: 4\n",
      "Enter second number: 11\n"
     ]
    },
    {
     "name": "stdout",
     "output_type": "stream",
     "text": [
      "Multiplication is 44\n"
     ]
    }
   ],
   "source": [
    "num1 = int(input('Enter first number:'))\n",
    "num2 = int(input('Enter second number:'))\n",
    "mult(num1, num2)"
   ]
  },
  {
   "cell_type": "code",
   "execution_count": 15,
   "id": "4199cd8f-520f-4b1c-8a4a-ab1df2e16f43",
   "metadata": {},
   "outputs": [
    {
     "name": "stdout",
     "output_type": "stream",
     "text": [
      "Multiplication is HiHiHiHi\n"
     ]
    }
   ],
   "source": [
    "mult('Hi', 4)"
   ]
  },
  {
   "cell_type": "code",
   "execution_count": 16,
   "id": "17ecd4c3-396d-4e69-88d7-a007b47ef26b",
   "metadata": {},
   "outputs": [],
   "source": [
    "# Write a function larger(n1, n2), which will find the larger number between two."
   ]
  },
  {
   "cell_type": "code",
   "execution_count": 17,
   "id": "548e32c7-1bf9-4f5c-b586-c6685f8bf642",
   "metadata": {},
   "outputs": [],
   "source": [
    "def larger(n1, n2):\n",
    "    if n1 > n2:\n",
    "        print(n1)\n",
    "    else:\n",
    "        print(n2)"
   ]
  },
  {
   "cell_type": "code",
   "execution_count": 18,
   "id": "6bf4670b-0b10-473d-be45-14ac536e639d",
   "metadata": {},
   "outputs": [
    {
     "name": "stdout",
     "output_type": "stream",
     "text": [
      "56\n"
     ]
    }
   ],
   "source": [
    "larger(34, 56)"
   ]
  },
  {
   "cell_type": "code",
   "execution_count": 19,
   "id": "249f9c5c-e3a9-48ed-89bb-8f1c1c70a2cb",
   "metadata": {},
   "outputs": [
    {
     "name": "stdout",
     "output_type": "stream",
     "text": [
      "12\n"
     ]
    }
   ],
   "source": [
    "larger(12,2)"
   ]
  },
  {
   "cell_type": "code",
   "execution_count": 20,
   "id": "490dfdfc-a634-4baa-b010-daf415c7bd18",
   "metadata": {},
   "outputs": [
    {
     "name": "stdout",
     "output_type": "stream",
     "text": [
      "34.763\n"
     ]
    }
   ],
   "source": [
    "larger(34.09, 34.763)"
   ]
  },
  {
   "cell_type": "code",
   "execution_count": 21,
   "id": "83a640d5-0058-476f-a0e5-efa493392a1a",
   "metadata": {},
   "outputs": [],
   "source": [
    "# Write a function isEqual(n1, n2), which will check to see the numbers are equal or not"
   ]
  },
  {
   "cell_type": "code",
   "execution_count": 23,
   "id": "0d081ee9-1caf-43fc-8975-89c7aed1b3eb",
   "metadata": {},
   "outputs": [],
   "source": [
    "def isEqual(n1, n2):\n",
    "    if n1 == n2:\n",
    "        print('Equal')\n",
    "    else:\n",
    "        print('Not Equal')"
   ]
  },
  {
   "cell_type": "code",
   "execution_count": 24,
   "id": "47b15bdd-ab20-451b-a416-c54b7da41106",
   "metadata": {},
   "outputs": [
    {
     "name": "stdout",
     "output_type": "stream",
     "text": [
      "Equal\n"
     ]
    }
   ],
   "source": [
    "isEqual(8.09, 8.09)"
   ]
  },
  {
   "cell_type": "code",
   "execution_count": 25,
   "id": "a763cb4b-2388-41f7-8c55-0603249b5cbd",
   "metadata": {},
   "outputs": [
    {
     "name": "stdout",
     "output_type": "stream",
     "text": [
      "Not Equal\n"
     ]
    }
   ],
   "source": [
    "isEqual('a','o')"
   ]
  },
  {
   "cell_type": "markdown",
   "id": "2eae2254-5fd9-4e25-a3b1-30771931ac89",
   "metadata": {},
   "source": [
    "##### Function returning values"
   ]
  },
  {
   "cell_type": "markdown",
   "id": "413310d1-7593-4b33-a381-09f67f7a63c6",
   "metadata": {},
   "source": [
    "The **return** statement in Python serves to exit a function and send a value back to the caller. When a function encounters a return statement, its execution is immediately terminated, and control is passed back to the point where the function was called."
   ]
  },
  {
   "cell_type": "code",
   "execution_count": 27,
   "id": "3142c6cb-42b1-4e30-9eb4-3ad034d595e4",
   "metadata": {},
   "outputs": [],
   "source": [
    "def square(num):\n",
    "    sq = num * num\n",
    "    return sq"
   ]
  },
  {
   "cell_type": "code",
   "execution_count": 28,
   "id": "f2bb5afa-a9e4-43d9-99dd-80431483ba3e",
   "metadata": {},
   "outputs": [
    {
     "data": {
      "text/plain": [
       "4"
      ]
     },
     "execution_count": 28,
     "metadata": {},
     "output_type": "execute_result"
    }
   ],
   "source": [
    "square(2)"
   ]
  },
  {
   "cell_type": "code",
   "execution_count": 29,
   "id": "22ed6308-5c5a-4bd8-8d95-f2d6b4e6c9fa",
   "metadata": {},
   "outputs": [],
   "source": [
    "x = square(4)"
   ]
  },
  {
   "cell_type": "code",
   "execution_count": 30,
   "id": "33710109-535e-467a-be60-c14532ac2d66",
   "metadata": {},
   "outputs": [
    {
     "data": {
      "text/plain": [
       "16"
      ]
     },
     "execution_count": 30,
     "metadata": {},
     "output_type": "execute_result"
    }
   ],
   "source": [
    "x"
   ]
  },
  {
   "cell_type": "code",
   "execution_count": 31,
   "id": "c7e33a74-2ddb-48b8-8814-08e884709d38",
   "metadata": {},
   "outputs": [
    {
     "name": "stdin",
     "output_type": "stream",
     "text": [
      "Enter the number: 6\n"
     ]
    },
    {
     "name": "stdout",
     "output_type": "stream",
     "text": [
      "Square is: 36\n"
     ]
    }
   ],
   "source": [
    "n = int(input('Enter the number:'))\n",
    "print('Square is:', square(n))"
   ]
  },
  {
   "cell_type": "code",
   "execution_count": 32,
   "id": "b11ddadb-c234-4b83-b591-04d835879e07",
   "metadata": {},
   "outputs": [],
   "source": [
    "def larger(n1, n2):\n",
    "    if n1 > n2:\n",
    "        return n1\n",
    "    else:\n",
    "        return n2"
   ]
  },
  {
   "cell_type": "code",
   "execution_count": 33,
   "id": "379a3b16-b226-4200-9d2b-1ae2cf89590a",
   "metadata": {},
   "outputs": [
    {
     "data": {
      "text/plain": [
       "78"
      ]
     },
     "execution_count": 33,
     "metadata": {},
     "output_type": "execute_result"
    }
   ],
   "source": [
    "larger(78, 34)"
   ]
  },
  {
   "cell_type": "code",
   "execution_count": 34,
   "id": "d578aeac-aa78-4b60-a6ae-821fc64147f1",
   "metadata": {},
   "outputs": [
    {
     "data": {
      "text/plain": [
       "78"
      ]
     },
     "execution_count": 34,
     "metadata": {},
     "output_type": "execute_result"
    }
   ],
   "source": [
    "r = larger(78, 34)\n",
    "r"
   ]
  },
  {
   "cell_type": "code",
   "execution_count": 35,
   "id": "a07a8ade-3d79-4e2e-a29a-cce2e53250d7",
   "metadata": {},
   "outputs": [],
   "source": [
    "def isEqual(n1, n2):\n",
    "    if n1 == n2:\n",
    "        return True\n",
    "    else:\n",
    "        return False"
   ]
  },
  {
   "cell_type": "code",
   "execution_count": 36,
   "id": "692fa66c-8faf-4e63-aa67-24d2b19a2eff",
   "metadata": {},
   "outputs": [
    {
     "data": {
      "text/plain": [
       "True"
      ]
     },
     "execution_count": 36,
     "metadata": {},
     "output_type": "execute_result"
    }
   ],
   "source": [
    "isEqual(90, 90)"
   ]
  },
  {
   "cell_type": "code",
   "execution_count": 37,
   "id": "6048c5c3-a9af-450d-be37-56e3668bff99",
   "metadata": {},
   "outputs": [
    {
     "data": {
      "text/plain": [
       "False"
      ]
     },
     "execution_count": 37,
     "metadata": {},
     "output_type": "execute_result"
    }
   ],
   "source": [
    "isEqual(34.5, 89.12)"
   ]
  },
  {
   "cell_type": "markdown",
   "id": "b2a9195e-5319-44d1-94d1-53bf07881c81",
   "metadata": {},
   "source": [
    "##### Function can return multiple values"
   ]
  },
  {
   "cell_type": "code",
   "execution_count": 39,
   "id": "bf16a56e-7e2b-486f-8bfe-f9c8a7e4350f",
   "metadata": {},
   "outputs": [],
   "source": [
    "def calc(n):\n",
    "    sq = n ** 2\n",
    "    cu = n ** 3\n",
    "    return sq, cu"
   ]
  },
  {
   "cell_type": "code",
   "execution_count": 40,
   "id": "9a6400aa-3416-491e-ae80-cf251b9b9f67",
   "metadata": {},
   "outputs": [],
   "source": [
    "x, y = calc(3)"
   ]
  },
  {
   "cell_type": "code",
   "execution_count": 41,
   "id": "11946df5-d1fa-4080-a2cb-0e9681ecf0d6",
   "metadata": {},
   "outputs": [
    {
     "data": {
      "text/plain": [
       "9"
      ]
     },
     "execution_count": 41,
     "metadata": {},
     "output_type": "execute_result"
    }
   ],
   "source": [
    "x"
   ]
  },
  {
   "cell_type": "code",
   "execution_count": 42,
   "id": "95289c8a-e6a5-43a8-9436-c25448c23d5d",
   "metadata": {},
   "outputs": [
    {
     "data": {
      "text/plain": [
       "27"
      ]
     },
     "execution_count": 42,
     "metadata": {},
     "output_type": "execute_result"
    }
   ],
   "source": [
    "y"
   ]
  },
  {
   "cell_type": "code",
   "execution_count": 43,
   "id": "cec8811c-5c5e-468f-ad09-960dffc0b1bc",
   "metadata": {},
   "outputs": [
    {
     "name": "stdin",
     "output_type": "stream",
     "text": [
      "Enter the number: 5\n"
     ]
    },
    {
     "name": "stdout",
     "output_type": "stream",
     "text": [
      "Square and Cube is: (25, 125)\n"
     ]
    }
   ],
   "source": [
    "n = int(input('Enter the number:'))\n",
    "print('Square and Cube is:', calc(n))"
   ]
  },
  {
   "cell_type": "code",
   "execution_count": 44,
   "id": "8caf8863-dcf6-46ce-9859-08e5325e1cb6",
   "metadata": {},
   "outputs": [],
   "source": [
    "# Write a function to find the min, max and sum of the list passed to it"
   ]
  },
  {
   "cell_type": "code",
   "execution_count": 45,
   "id": "91b72312-9c73-49c8-9987-0a9a30fafc01",
   "metadata": {},
   "outputs": [],
   "source": [
    "num = [45,11,32,47,89,33]\n",
    "def minMaxSum(num):\n",
    "    a = min(num)\n",
    "    b = max(num)\n",
    "    c = sum(num)\n",
    "    return a, b, c"
   ]
  },
  {
   "cell_type": "code",
   "execution_count": 46,
   "id": "30a7a8d2-ce9e-4c03-9b4a-01053513944b",
   "metadata": {},
   "outputs": [
    {
     "data": {
      "text/plain": [
       "(11, 89, 257)"
      ]
     },
     "execution_count": 46,
     "metadata": {},
     "output_type": "execute_result"
    }
   ],
   "source": [
    "minMaxSum(num)"
   ]
  },
  {
   "cell_type": "markdown",
   "id": "8db8edd4-6a52-4e70-9a4c-27339106501c",
   "metadata": {},
   "source": [
    "##### Recursion"
   ]
  },
  {
   "cell_type": "code",
   "execution_count": 54,
   "id": "f4441761-e65a-4d30-92de-3f80ab95ab3c",
   "metadata": {},
   "outputs": [],
   "source": [
    "def factorial(n):\n",
    "    fact = 1\n",
    "    for i in range(1, n+1):\n",
    "        fact = fact * i\n",
    "    return fact"
   ]
  },
  {
   "cell_type": "code",
   "execution_count": 55,
   "id": "2598f31a-4a6f-42d0-ba5d-7f48757be27e",
   "metadata": {},
   "outputs": [
    {
     "data": {
      "text/plain": [
       "120"
      ]
     },
     "execution_count": 55,
     "metadata": {},
     "output_type": "execute_result"
    }
   ],
   "source": [
    "factorial(5)"
   ]
  },
  {
   "cell_type": "code",
   "execution_count": 56,
   "id": "06398d7e-b7e7-4f48-a98e-0a1bc401925c",
   "metadata": {},
   "outputs": [
    {
     "data": {
      "text/plain": [
       "362880"
      ]
     },
     "execution_count": 56,
     "metadata": {},
     "output_type": "execute_result"
    }
   ],
   "source": [
    "factorial(9)"
   ]
  },
  {
   "cell_type": "code",
   "execution_count": 57,
   "id": "ecbd9a65-04bb-4ab3-89da-7b0618c67401",
   "metadata": {},
   "outputs": [
    {
     "data": {
      "text/plain": [
       "93326215443944152681699238856266700490715968264381621468592963895217599993229915608941463976156518286253697920827223758251185210916864000000000000000000000000"
      ]
     },
     "execution_count": 57,
     "metadata": {},
     "output_type": "execute_result"
    }
   ],
   "source": [
    "factorial(100)"
   ]
  },
  {
   "cell_type": "code",
   "execution_count": 60,
   "id": "3fc81cf4-2173-4413-99c6-5933447fe32f",
   "metadata": {},
   "outputs": [],
   "source": [
    "# Recursive function\n",
    "def factorial(n):\n",
    "    if n <= 1:\n",
    "        return 1\n",
    "    else:\n",
    "        return n * factorial(n - 1)"
   ]
  },
  {
   "cell_type": "code",
   "execution_count": 62,
   "id": "694a029f-381a-4259-86bd-f38a3495bc41",
   "metadata": {},
   "outputs": [
    {
     "data": {
      "text/plain": [
       "120"
      ]
     },
     "execution_count": 62,
     "metadata": {},
     "output_type": "execute_result"
    }
   ],
   "source": [
    "factorial(5)"
   ]
  },
  {
   "cell_type": "markdown",
   "id": "6dbbf04c-01d3-4cca-9564-2fd901f5c2c1",
   "metadata": {},
   "source": [
    "##### Variable Length Arguments"
   ]
  },
  {
   "cell_type": "code",
   "execution_count": 64,
   "id": "7d43376e-0370-4e2a-a0dc-e933ebfe55df",
   "metadata": {},
   "outputs": [],
   "source": [
    "def show(*args):\n",
    "    for i in args:\n",
    "        print(i)"
   ]
  },
  {
   "cell_type": "code",
   "execution_count": 65,
   "id": "07152298-8617-4ec4-8109-f11db983abcc",
   "metadata": {},
   "outputs": [
    {
     "name": "stdout",
     "output_type": "stream",
     "text": [
      "2\n",
      "4\n",
      "5\n",
      "6\n",
      "7\n"
     ]
    }
   ],
   "source": [
    "show(2,4,5,6,7)"
   ]
  },
  {
   "cell_type": "code",
   "execution_count": 66,
   "id": "09d8259b-2825-42ef-88f8-e57fe83a52af",
   "metadata": {},
   "outputs": [
    {
     "name": "stdout",
     "output_type": "stream",
     "text": [
      "a\n",
      "b\n",
      "23\n",
      "67.89\n"
     ]
    }
   ],
   "source": [
    "show('a','b',23,67.89)"
   ]
  },
  {
   "cell_type": "code",
   "execution_count": 67,
   "id": "3ec6699c-eb40-4d43-94e5-6988ff9fc726",
   "metadata": {},
   "outputs": [],
   "source": [
    "def add(*args):\n",
    "    a = 0\n",
    "    for i in args:\n",
    "        a += i\n",
    "    return a"
   ]
  },
  {
   "cell_type": "code",
   "execution_count": 69,
   "id": "9dbc6c56-e2ad-4cb2-addb-5afc8324e07c",
   "metadata": {},
   "outputs": [
    {
     "data": {
      "text/plain": [
       "16"
      ]
     },
     "execution_count": 69,
     "metadata": {},
     "output_type": "execute_result"
    }
   ],
   "source": [
    "add(5,4,3,4)"
   ]
  },
  {
   "cell_type": "markdown",
   "id": "84e43759-0eb5-4ff3-ace3-f7c3ba449bcb",
   "metadata": {},
   "source": [
    "##### lambda functions"
   ]
  },
  {
   "cell_type": "code",
   "execution_count": 72,
   "id": "a62254a8-8b9c-4b2d-b4cc-0c3ca10df401",
   "metadata": {},
   "outputs": [],
   "source": [
    "square = lambda x: x ** 2"
   ]
  },
  {
   "cell_type": "code",
   "execution_count": 73,
   "id": "340269da-a9c4-4521-ad3d-56b769535cc7",
   "metadata": {},
   "outputs": [
    {
     "data": {
      "text/plain": [
       "9"
      ]
     },
     "execution_count": 73,
     "metadata": {},
     "output_type": "execute_result"
    }
   ],
   "source": [
    "square(3)"
   ]
  },
  {
   "cell_type": "markdown",
   "id": "5c870a52-ec1e-499f-bd02-36b91dea8e08",
   "metadata": {},
   "source": [
    "##### filter function"
   ]
  },
  {
   "cell_type": "code",
   "execution_count": 75,
   "id": "c599b594-04e3-496b-97d8-7eafb817515c",
   "metadata": {},
   "outputs": [],
   "source": [
    "seq = [45,6,12,37,73,17,45,26,79,53]"
   ]
  },
  {
   "cell_type": "code",
   "execution_count": 76,
   "id": "55f41054-040e-49a3-a0bc-b3eecd867e59",
   "metadata": {},
   "outputs": [],
   "source": [
    "new = list(filter(lambda x: x > 40, seq))"
   ]
  },
  {
   "cell_type": "code",
   "execution_count": 77,
   "id": "eaea91f7-171b-4a90-93cb-88166d713c35",
   "metadata": {},
   "outputs": [
    {
     "data": {
      "text/plain": [
       "[45, 73, 45, 79, 53]"
      ]
     },
     "execution_count": 77,
     "metadata": {},
     "output_type": "execute_result"
    }
   ],
   "source": [
    "new"
   ]
  },
  {
   "cell_type": "code",
   "execution_count": 78,
   "id": "16a9a711-cde6-4670-8129-05f55eb89dea",
   "metadata": {},
   "outputs": [],
   "source": [
    "new = list(filter(lambda x: x % 2, seq))"
   ]
  },
  {
   "cell_type": "code",
   "execution_count": 79,
   "id": "1d726dfc-f43f-4fe0-ae4e-9aa4f2b8a61f",
   "metadata": {},
   "outputs": [
    {
     "data": {
      "text/plain": [
       "[45, 37, 73, 17, 45, 79, 53]"
      ]
     },
     "execution_count": 79,
     "metadata": {},
     "output_type": "execute_result"
    }
   ],
   "source": [
    "new"
   ]
  },
  {
   "cell_type": "code",
   "execution_count": 80,
   "id": "bf79f53d-c4e9-469c-9bde-495107f8b8d0",
   "metadata": {},
   "outputs": [
    {
     "data": {
      "text/plain": [
       "[6, 12, 26]"
      ]
     },
     "execution_count": 80,
     "metadata": {},
     "output_type": "execute_result"
    }
   ],
   "source": [
    "new = list(filter(lambda x: x % 2 == 0, seq))\n",
    "new"
   ]
  },
  {
   "cell_type": "code",
   "execution_count": 81,
   "id": "6d699d1b-998a-47fc-9bef-8d44e2ec4ffc",
   "metadata": {},
   "outputs": [
    {
     "data": {
      "text/plain": [
       "[45, 37, 73, 17, 45, 79, 53]"
      ]
     },
     "execution_count": 81,
     "metadata": {},
     "output_type": "execute_result"
    }
   ],
   "source": [
    "[x for x in seq if x % 2]"
   ]
  },
  {
   "cell_type": "markdown",
   "id": "e46565a3-ed38-4e06-a919-f20b9b13c756",
   "metadata": {},
   "source": [
    "##### map function"
   ]
  },
  {
   "cell_type": "code",
   "execution_count": 83,
   "id": "c43d3fb4-f62c-4fb5-a248-d6d54d77fb95",
   "metadata": {},
   "outputs": [],
   "source": [
    "seq = [45,6,12,37,73,17,45,26,79,53]"
   ]
  },
  {
   "cell_type": "code",
   "execution_count": 84,
   "id": "8d6c0f0d-7a79-461e-9381-7aabb5c6f10e",
   "metadata": {},
   "outputs": [],
   "source": [
    "new = list(map(lambda x: x / 2, seq))"
   ]
  },
  {
   "cell_type": "code",
   "execution_count": 85,
   "id": "e6389bd3-0cf2-4c98-8fd0-3fff4b98416b",
   "metadata": {},
   "outputs": [
    {
     "data": {
      "text/plain": [
       "[22.5, 3.0, 6.0, 18.5, 36.5, 8.5, 22.5, 13.0, 39.5, 26.5]"
      ]
     },
     "execution_count": 85,
     "metadata": {},
     "output_type": "execute_result"
    }
   ],
   "source": [
    "new"
   ]
  },
  {
   "cell_type": "code",
   "execution_count": 86,
   "id": "e5fdd03a-a72e-4c0e-9114-4719b1569417",
   "metadata": {},
   "outputs": [],
   "source": [
    "new = list(map(lambda x: x ** 2, seq))"
   ]
  },
  {
   "cell_type": "code",
   "execution_count": 87,
   "id": "714e0805-c9ad-4c0b-a700-d596ac60df04",
   "metadata": {},
   "outputs": [
    {
     "data": {
      "text/plain": [
       "[2025, 36, 144, 1369, 5329, 289, 2025, 676, 6241, 2809]"
      ]
     },
     "execution_count": 87,
     "metadata": {},
     "output_type": "execute_result"
    }
   ],
   "source": [
    "new"
   ]
  },
  {
   "cell_type": "markdown",
   "id": "57f132b1-70fb-4c69-b153-57a4c0615a04",
   "metadata": {},
   "source": [
    "##### reduce function"
   ]
  },
  {
   "cell_type": "code",
   "execution_count": 89,
   "id": "bc0b7b20-e031-4498-a8a4-c94b48bb4b54",
   "metadata": {},
   "outputs": [],
   "source": [
    "from functools import reduce"
   ]
  },
  {
   "cell_type": "code",
   "execution_count": 90,
   "id": "3fd94faf-81a0-44cb-ac88-a159096ffd6d",
   "metadata": {},
   "outputs": [],
   "source": [
    "seq = [1,3,4,5,6,8]"
   ]
  },
  {
   "cell_type": "code",
   "execution_count": 93,
   "id": "246d2a6a-4fef-49f6-bad3-58df4c181dff",
   "metadata": {},
   "outputs": [],
   "source": [
    "multiply = reduce(lambda a, b: a * b, seq)"
   ]
  },
  {
   "cell_type": "code",
   "execution_count": 94,
   "id": "4e3565cd-8ae7-4389-ac77-4fe3c677ae09",
   "metadata": {},
   "outputs": [
    {
     "data": {
      "text/plain": [
       "2880"
      ]
     },
     "execution_count": 94,
     "metadata": {},
     "output_type": "execute_result"
    }
   ],
   "source": [
    "multiply"
   ]
  },
  {
   "cell_type": "code",
   "execution_count": null,
   "id": "07b79947-720a-41ac-a8c7-20e866bc356a",
   "metadata": {},
   "outputs": [],
   "source": []
  }
 ],
 "metadata": {
  "kernelspec": {
   "display_name": "Python 3 (ipykernel)",
   "language": "python",
   "name": "python3"
  },
  "language_info": {
   "codemirror_mode": {
    "name": "ipython",
    "version": 3
   },
   "file_extension": ".py",
   "mimetype": "text/x-python",
   "name": "python",
   "nbconvert_exporter": "python",
   "pygments_lexer": "ipython3",
   "version": "3.10.12"
  }
 },
 "nbformat": 4,
 "nbformat_minor": 5
}
