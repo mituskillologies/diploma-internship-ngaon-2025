{
 "cells": [
  {
   "cell_type": "code",
   "execution_count": 1,
   "id": "9a7f34ee-739f-478f-a042-238cde35ef64",
   "metadata": {},
   "outputs": [],
   "source": [
    "num = [45, 11, 23, 42, 78, 96]"
   ]
  },
  {
   "cell_type": "code",
   "execution_count": 2,
   "id": "305b3581-f204-4a28-9ef1-72c320a02a99",
   "metadata": {},
   "outputs": [
    {
     "data": {
      "text/plain": [
       "list"
      ]
     },
     "execution_count": 2,
     "metadata": {},
     "output_type": "execute_result"
    }
   ],
   "source": [
    "type(num)"
   ]
  },
  {
   "cell_type": "code",
   "execution_count": 3,
   "id": "3da0e833-edd2-47a9-a743-6a85b11bfac0",
   "metadata": {},
   "outputs": [],
   "source": [
    "num = (45, 11, 23, 42, 78, 96)"
   ]
  },
  {
   "cell_type": "code",
   "execution_count": 4,
   "id": "bb8c4495-3dd6-495e-9a0b-0164f206750e",
   "metadata": {},
   "outputs": [
    {
     "data": {
      "text/plain": [
       "tuple"
      ]
     },
     "execution_count": 4,
     "metadata": {},
     "output_type": "execute_result"
    }
   ],
   "source": [
    "type(num)"
   ]
  },
  {
   "cell_type": "code",
   "execution_count": 5,
   "id": "1f8e44a7-2d4d-4eef-9e51-dae7e2aebd7f",
   "metadata": {},
   "outputs": [
    {
     "data": {
      "text/plain": [
       "set"
      ]
     },
     "execution_count": 5,
     "metadata": {},
     "output_type": "execute_result"
    }
   ],
   "source": [
    "num = {45, 11, 23, 42, 78, 96}\n",
    "type(num)"
   ]
  },
  {
   "cell_type": "code",
   "execution_count": 6,
   "id": "94148e33-434b-415b-b3e4-afd0fab7c886",
   "metadata": {},
   "outputs": [
    {
     "data": {
      "text/plain": [
       "dict"
      ]
     },
     "execution_count": 6,
     "metadata": {},
     "output_type": "execute_result"
    }
   ],
   "source": [
    "num = {45:11, 23:42, 78:96}\n",
    "type(num)"
   ]
  },
  {
   "cell_type": "markdown",
   "id": "c0ab7f67-3d7c-4db2-88df-d9f8dfed3eac",
   "metadata": {},
   "source": [
    "##### Creating a list"
   ]
  },
  {
   "cell_type": "code",
   "execution_count": 8,
   "id": "b7a9a92f-42eb-4b7d-88de-78ebcead0dcf",
   "metadata": {},
   "outputs": [],
   "source": [
    "num = [23, 11, 56, 77, 21, 41, 26]"
   ]
  },
  {
   "cell_type": "code",
   "execution_count": 9,
   "id": "4d2ea206-18b2-4dc6-b94a-d97bdd3404e3",
   "metadata": {},
   "outputs": [
    {
     "name": "stdout",
     "output_type": "stream",
     "text": [
      "[23, 11, 56, 77, 21, 41, 26]\n"
     ]
    }
   ],
   "source": [
    "print(num)"
   ]
  },
  {
   "cell_type": "code",
   "execution_count": 10,
   "id": "de75bf6e-a0a5-4fc0-a69e-4b38be8088c8",
   "metadata": {},
   "outputs": [],
   "source": [
    "alpha = [45, 56, 12.09,True, \"Pune\", 200 ]"
   ]
  },
  {
   "cell_type": "code",
   "execution_count": 11,
   "id": "4ca412ee-3f7d-4d39-8d0b-662128e7d405",
   "metadata": {},
   "outputs": [
    {
     "data": {
      "text/plain": [
       "[45, 56, 12.09, True, 'Pune', 200]"
      ]
     },
     "execution_count": 11,
     "metadata": {},
     "output_type": "execute_result"
    }
   ],
   "source": [
    "alpha"
   ]
  },
  {
   "cell_type": "code",
   "execution_count": 12,
   "id": "4ed403d0-00b5-4e4b-9195-e542c5480071",
   "metadata": {},
   "outputs": [
    {
     "data": {
      "text/plain": [
       "list"
      ]
     },
     "execution_count": 12,
     "metadata": {},
     "output_type": "execute_result"
    }
   ],
   "source": [
    "type(alpha)"
   ]
  },
  {
   "cell_type": "markdown",
   "id": "736ee169-0972-45d5-a126-de6f4d571194",
   "metadata": {},
   "source": [
    "##### Accessing the list"
   ]
  },
  {
   "cell_type": "code",
   "execution_count": 14,
   "id": "f56be6e3-d2d9-4521-b238-938a0515749b",
   "metadata": {},
   "outputs": [
    {
     "data": {
      "text/plain": [
       "45"
      ]
     },
     "execution_count": 14,
     "metadata": {},
     "output_type": "execute_result"
    }
   ],
   "source": [
    "alpha[0]"
   ]
  },
  {
   "cell_type": "code",
   "execution_count": 15,
   "id": "cca1b340-4e46-4f62-a415-cd260538d00c",
   "metadata": {},
   "outputs": [
    {
     "data": {
      "text/plain": [
       "23"
      ]
     },
     "execution_count": 15,
     "metadata": {},
     "output_type": "execute_result"
    }
   ],
   "source": [
    "num[0]"
   ]
  },
  {
   "cell_type": "code",
   "execution_count": 16,
   "id": "0bcc0627-fef6-42ea-82be-21f66d53296b",
   "metadata": {},
   "outputs": [
    {
     "data": {
      "text/plain": [
       "'Pune'"
      ]
     },
     "execution_count": 16,
     "metadata": {},
     "output_type": "execute_result"
    }
   ],
   "source": [
    "alpha[4]"
   ]
  },
  {
   "cell_type": "code",
   "execution_count": 17,
   "id": "48a803c3-0172-45d5-b1c3-84df3e26cdc6",
   "metadata": {},
   "outputs": [
    {
     "ename": "IndexError",
     "evalue": "list index out of range",
     "output_type": "error",
     "traceback": [
      "\u001b[0;31m---------------------------------------------------------------------------\u001b[0m",
      "\u001b[0;31mIndexError\u001b[0m                                Traceback (most recent call last)",
      "Cell \u001b[0;32mIn[17], line 1\u001b[0m\n\u001b[0;32m----> 1\u001b[0m \u001b[43malpha\u001b[49m\u001b[43m[\u001b[49m\u001b[38;5;241;43m10\u001b[39;49m\u001b[43m]\u001b[49m\n",
      "\u001b[0;31mIndexError\u001b[0m: list index out of range"
     ]
    }
   ],
   "source": [
    "alpha[10]"
   ]
  },
  {
   "cell_type": "code",
   "execution_count": 18,
   "id": "a2e41372-6a53-4577-8040-79d2ed3b8ee1",
   "metadata": {},
   "outputs": [
    {
     "data": {
      "text/plain": [
       "'Pune'"
      ]
     },
     "execution_count": 18,
     "metadata": {},
     "output_type": "execute_result"
    }
   ],
   "source": [
    "alpha[4]"
   ]
  },
  {
   "cell_type": "code",
   "execution_count": 19,
   "id": "35f4ce36-d9ae-4b14-8d6b-63008a28af21",
   "metadata": {},
   "outputs": [],
   "source": [
    "alpha[4] = \"Mumbai\""
   ]
  },
  {
   "cell_type": "code",
   "execution_count": 20,
   "id": "cf906580-6105-4fce-8358-814a8bf2f1a8",
   "metadata": {},
   "outputs": [
    {
     "data": {
      "text/plain": [
       "[45, 56, 12.09, True, 'Mumbai', 200]"
      ]
     },
     "execution_count": 20,
     "metadata": {},
     "output_type": "execute_result"
    }
   ],
   "source": [
    "alpha"
   ]
  },
  {
   "cell_type": "code",
   "execution_count": 21,
   "id": "a776dd4c-7c1c-48b1-95ba-6f450071ca51",
   "metadata": {},
   "outputs": [
    {
     "data": {
      "text/plain": [
       "[23, 11, 56, 77, 21, 41, 26]"
      ]
     },
     "execution_count": 21,
     "metadata": {},
     "output_type": "execute_result"
    }
   ],
   "source": [
    "num"
   ]
  },
  {
   "cell_type": "code",
   "execution_count": 22,
   "id": "cf9b7838-cb25-45e0-a82e-52362efd3dfe",
   "metadata": {},
   "outputs": [
    {
     "data": {
      "text/plain": [
       "26"
      ]
     },
     "execution_count": 22,
     "metadata": {},
     "output_type": "execute_result"
    }
   ],
   "source": [
    "num[-1]"
   ]
  },
  {
   "cell_type": "code",
   "execution_count": 23,
   "id": "92be7322-28cc-4bbd-8050-310ca696b665",
   "metadata": {},
   "outputs": [
    {
     "data": {
      "text/plain": [
       "11"
      ]
     },
     "execution_count": 23,
     "metadata": {},
     "output_type": "execute_result"
    }
   ],
   "source": [
    "num[-6]"
   ]
  },
  {
   "cell_type": "code",
   "execution_count": 24,
   "id": "41a4eea6-355d-4187-9d80-3a58f10c7147",
   "metadata": {},
   "outputs": [],
   "source": [
    "num[-3] = 55"
   ]
  },
  {
   "cell_type": "code",
   "execution_count": 25,
   "id": "b1fdbeb5-283d-4035-90d3-1f9c89da048d",
   "metadata": {},
   "outputs": [
    {
     "data": {
      "text/plain": [
       "[23, 11, 56, 77, 55, 41, 26]"
      ]
     },
     "execution_count": 25,
     "metadata": {},
     "output_type": "execute_result"
    }
   ],
   "source": [
    "num"
   ]
  },
  {
   "cell_type": "markdown",
   "id": "71221cd0-f9eb-424f-ac65-09fba8512d63",
   "metadata": {},
   "source": [
    "##### List of list"
   ]
  },
  {
   "cell_type": "code",
   "execution_count": 27,
   "id": "3e98e6de-3f6b-4b81-970b-23b9d5b9b683",
   "metadata": {},
   "outputs": [],
   "source": [
    "x = [45,11,23,78,[23,19,84,16],20,12]"
   ]
  },
  {
   "cell_type": "code",
   "execution_count": 28,
   "id": "94681612-fb4f-45d4-988b-283858db94e5",
   "metadata": {},
   "outputs": [
    {
     "data": {
      "text/plain": [
       "[45, 11, 23, 78, [23, 19, 84, 16], 20, 12]"
      ]
     },
     "execution_count": 28,
     "metadata": {},
     "output_type": "execute_result"
    }
   ],
   "source": [
    "x"
   ]
  },
  {
   "cell_type": "code",
   "execution_count": 29,
   "id": "d5d89c25-7572-40e1-8437-1dc6fda61aea",
   "metadata": {},
   "outputs": [
    {
     "data": {
      "text/plain": [
       "[23, 19, 84, 16]"
      ]
     },
     "execution_count": 29,
     "metadata": {},
     "output_type": "execute_result"
    }
   ],
   "source": [
    "x[4]"
   ]
  },
  {
   "cell_type": "code",
   "execution_count": 30,
   "id": "65a2ca24-cd9a-49e8-8470-d791276d75bc",
   "metadata": {},
   "outputs": [
    {
     "data": {
      "text/plain": [
       "84"
      ]
     },
     "execution_count": 30,
     "metadata": {},
     "output_type": "execute_result"
    }
   ],
   "source": [
    "x[4][2]"
   ]
  },
  {
   "cell_type": "code",
   "execution_count": 31,
   "id": "60bc58a9-7788-4fce-a5b2-7c3f5efbddef",
   "metadata": {},
   "outputs": [],
   "source": [
    "x[4][2] = 66"
   ]
  },
  {
   "cell_type": "code",
   "execution_count": 32,
   "id": "bd93aea1-e259-449b-a962-1d1c8f8bce1f",
   "metadata": {},
   "outputs": [
    {
     "data": {
      "text/plain": [
       "[45, 11, 23, 78, [23, 19, 66, 16], 20, 12]"
      ]
     },
     "execution_count": 32,
     "metadata": {},
     "output_type": "execute_result"
    }
   ],
   "source": [
    "x"
   ]
  },
  {
   "cell_type": "markdown",
   "id": "fa0328cf-db51-4f5e-9d65-af09c2b77b3a",
   "metadata": {},
   "source": [
    "##### Slicing the list"
   ]
  },
  {
   "cell_type": "code",
   "execution_count": 34,
   "id": "edb63720-d296-48f4-b111-e3d38ad88d93",
   "metadata": {},
   "outputs": [
    {
     "data": {
      "text/plain": [
       "[23, 11, 56, 77, 55, 41, 26]"
      ]
     },
     "execution_count": 34,
     "metadata": {},
     "output_type": "execute_result"
    }
   ],
   "source": [
    "num"
   ]
  },
  {
   "cell_type": "code",
   "execution_count": 35,
   "id": "85928451-beaa-4e5c-ab92-f73f67f7f29c",
   "metadata": {},
   "outputs": [
    {
     "data": {
      "text/plain": [
       "[11, 56, 77, 55]"
      ]
     },
     "execution_count": 35,
     "metadata": {},
     "output_type": "execute_result"
    }
   ],
   "source": [
    "num[1:5]"
   ]
  },
  {
   "cell_type": "code",
   "execution_count": 36,
   "id": "ba071ea5-6192-4cc1-bfdd-876530b3919b",
   "metadata": {},
   "outputs": [],
   "source": [
    "sub = num[1:5]"
   ]
  },
  {
   "cell_type": "code",
   "execution_count": 37,
   "id": "1fa50d99-9637-4245-8fdb-23a7d4610be1",
   "metadata": {},
   "outputs": [
    {
     "data": {
      "text/plain": [
       "[11, 56, 77, 55]"
      ]
     },
     "execution_count": 37,
     "metadata": {},
     "output_type": "execute_result"
    }
   ],
   "source": [
    "sub"
   ]
  },
  {
   "cell_type": "code",
   "execution_count": 38,
   "id": "5c1375cc-452b-4c9f-b9dc-7331a699a58b",
   "metadata": {},
   "outputs": [
    {
     "data": {
      "text/plain": [
       "list"
      ]
     },
     "execution_count": 38,
     "metadata": {},
     "output_type": "execute_result"
    }
   ],
   "source": [
    "type(sub)"
   ]
  },
  {
   "cell_type": "code",
   "execution_count": 39,
   "id": "d9c0004b-26b5-40eb-a9fb-f792645f83b3",
   "metadata": {},
   "outputs": [
    {
     "data": {
      "text/plain": [
       "[11, 56, 77, 55, 41, 26]"
      ]
     },
     "execution_count": 39,
     "metadata": {},
     "output_type": "execute_result"
    }
   ],
   "source": [
    "num[1:]"
   ]
  },
  {
   "cell_type": "code",
   "execution_count": 40,
   "id": "5c12fdc3-5a40-4b1a-881c-616da7dbb733",
   "metadata": {},
   "outputs": [
    {
     "data": {
      "text/plain": [
       "[23, 11, 56, 77]"
      ]
     },
     "execution_count": 40,
     "metadata": {},
     "output_type": "execute_result"
    }
   ],
   "source": [
    "num[:4]"
   ]
  },
  {
   "cell_type": "code",
   "execution_count": 41,
   "id": "3eb026c3-3117-4c92-a762-b2f3620388cb",
   "metadata": {},
   "outputs": [
    {
     "data": {
      "text/plain": [
       "[23, 11, 56, 77, 55, 41, 26]"
      ]
     },
     "execution_count": 41,
     "metadata": {},
     "output_type": "execute_result"
    }
   ],
   "source": [
    "num[:]"
   ]
  },
  {
   "cell_type": "code",
   "execution_count": 43,
   "id": "03c6e1ee-403b-4fed-b03f-276b48fe6101",
   "metadata": {},
   "outputs": [
    {
     "data": {
      "text/plain": [
       "[56, 77, 55]"
      ]
     },
     "execution_count": 43,
     "metadata": {},
     "output_type": "execute_result"
    }
   ],
   "source": [
    "num[-5:-2]"
   ]
  },
  {
   "cell_type": "code",
   "execution_count": 45,
   "id": "e266f1c4-21f0-4e75-8b75-20831a0a0bb3",
   "metadata": {},
   "outputs": [
    {
     "data": {
      "text/plain": [
       "[56, 77, 55]"
      ]
     },
     "execution_count": 45,
     "metadata": {},
     "output_type": "execute_result"
    }
   ],
   "source": [
    "num[2:5]"
   ]
  },
  {
   "cell_type": "code",
   "execution_count": 46,
   "id": "a27ca365-c17a-411b-a5fa-55d3f86e8214",
   "metadata": {},
   "outputs": [],
   "source": [
    "num[2:5] = [67,3,17]"
   ]
  },
  {
   "cell_type": "code",
   "execution_count": 47,
   "id": "e0d05905-491b-4835-bf5e-fb9a9cccc07b",
   "metadata": {},
   "outputs": [
    {
     "data": {
      "text/plain": [
       "[23, 11, 67, 3, 17, 41, 26]"
      ]
     },
     "execution_count": 47,
     "metadata": {},
     "output_type": "execute_result"
    }
   ],
   "source": [
    "num"
   ]
  },
  {
   "cell_type": "markdown",
   "id": "98f2d377-ca83-466a-bc86-048e48a25373",
   "metadata": {},
   "source": [
    "##### Existence of elements"
   ]
  },
  {
   "cell_type": "code",
   "execution_count": 49,
   "id": "93dd46f6-8bc1-4430-9122-0c23c9097e2d",
   "metadata": {},
   "outputs": [
    {
     "data": {
      "text/plain": [
       "[23, 11, 67, 3, 17, 41, 26]"
      ]
     },
     "execution_count": 49,
     "metadata": {},
     "output_type": "execute_result"
    }
   ],
   "source": [
    "num"
   ]
  },
  {
   "cell_type": "code",
   "execution_count": 50,
   "id": "996c3349-098b-41dd-a117-db3dc2e36b30",
   "metadata": {},
   "outputs": [
    {
     "data": {
      "text/plain": [
       "False"
      ]
     },
     "execution_count": 50,
     "metadata": {},
     "output_type": "execute_result"
    }
   ],
   "source": [
    "4 in num"
   ]
  },
  {
   "cell_type": "code",
   "execution_count": 51,
   "id": "20d7e7b5-bb11-45ca-9d04-208803208137",
   "metadata": {},
   "outputs": [
    {
     "data": {
      "text/plain": [
       "True"
      ]
     },
     "execution_count": 51,
     "metadata": {},
     "output_type": "execute_result"
    }
   ],
   "source": [
    "4 not in num"
   ]
  },
  {
   "cell_type": "code",
   "execution_count": 52,
   "id": "c27215c9-b529-4bd4-b65a-39dec5592a26",
   "metadata": {},
   "outputs": [
    {
     "data": {
      "text/plain": [
       "True"
      ]
     },
     "execution_count": 52,
     "metadata": {},
     "output_type": "execute_result"
    }
   ],
   "source": [
    "41 in num"
   ]
  },
  {
   "cell_type": "markdown",
   "id": "5752cff2-85a7-4bde-bd01-0ab9c63aae8b",
   "metadata": {},
   "source": [
    "##### Deleting the elements"
   ]
  },
  {
   "cell_type": "code",
   "execution_count": 54,
   "id": "80d13d69-0893-468f-b48d-f3f282fe926e",
   "metadata": {},
   "outputs": [],
   "source": [
    "a = 56"
   ]
  },
  {
   "cell_type": "code",
   "execution_count": 55,
   "id": "1eff4cab-1cbe-461d-b0fb-f1b90b6c02bd",
   "metadata": {},
   "outputs": [
    {
     "name": "stdout",
     "output_type": "stream",
     "text": [
      "56\n"
     ]
    }
   ],
   "source": [
    "print(a)"
   ]
  },
  {
   "cell_type": "code",
   "execution_count": 56,
   "id": "8ad251f5-a63f-4e09-9790-30fc5f0123d2",
   "metadata": {},
   "outputs": [],
   "source": [
    "del a"
   ]
  },
  {
   "cell_type": "code",
   "execution_count": 57,
   "id": "9963de31-3368-411a-9cad-8aea5e9ed0a0",
   "metadata": {},
   "outputs": [
    {
     "ename": "NameError",
     "evalue": "name 'a' is not defined",
     "output_type": "error",
     "traceback": [
      "\u001b[0;31m---------------------------------------------------------------------------\u001b[0m",
      "\u001b[0;31mNameError\u001b[0m                                 Traceback (most recent call last)",
      "Cell \u001b[0;32mIn[57], line 1\u001b[0m\n\u001b[0;32m----> 1\u001b[0m \u001b[38;5;28mprint\u001b[39m(\u001b[43ma\u001b[49m)\n",
      "\u001b[0;31mNameError\u001b[0m: name 'a' is not defined"
     ]
    }
   ],
   "source": [
    "print(a)"
   ]
  },
  {
   "cell_type": "code",
   "execution_count": 58,
   "id": "92313b4c-4b5e-4640-a334-9b85c8304a59",
   "metadata": {},
   "outputs": [
    {
     "data": {
      "text/plain": [
       "[23, 11, 67, 3, 17, 41, 26]"
      ]
     },
     "execution_count": 58,
     "metadata": {},
     "output_type": "execute_result"
    }
   ],
   "source": [
    "num"
   ]
  },
  {
   "cell_type": "code",
   "execution_count": 59,
   "id": "499ef6ff-c637-418b-83fe-ca75dd4d3cf9",
   "metadata": {},
   "outputs": [],
   "source": [
    "del num[4]"
   ]
  },
  {
   "cell_type": "code",
   "execution_count": 60,
   "id": "4eb06b0e-b93f-471d-bbcd-0f4d9cff69f5",
   "metadata": {},
   "outputs": [
    {
     "data": {
      "text/plain": [
       "[23, 11, 67, 3, 41, 26]"
      ]
     },
     "execution_count": 60,
     "metadata": {},
     "output_type": "execute_result"
    }
   ],
   "source": [
    "num"
   ]
  },
  {
   "cell_type": "markdown",
   "id": "f854fc3b-4586-49e8-98d9-afedbae62eaa",
   "metadata": {},
   "source": [
    "##### Arithmetic Operations on list"
   ]
  },
  {
   "cell_type": "code",
   "execution_count": 62,
   "id": "5d206cbc-92c3-4201-8310-4cee13986a65",
   "metadata": {},
   "outputs": [
    {
     "data": {
      "text/plain": [
       "[23, 11, 67, 3, 41, 26, 23, 11, 67, 3, 41, 26]"
      ]
     },
     "execution_count": 62,
     "metadata": {},
     "output_type": "execute_result"
    }
   ],
   "source": [
    "num * 2"
   ]
  },
  {
   "cell_type": "code",
   "execution_count": 63,
   "id": "eeec694f-f1b7-4048-9aeb-bb7b978ce58a",
   "metadata": {},
   "outputs": [
    {
     "data": {
      "text/plain": [
       "[45,\n",
       " 56,\n",
       " 12.09,\n",
       " True,\n",
       " 'Mumbai',\n",
       " 200,\n",
       " 45,\n",
       " 56,\n",
       " 12.09,\n",
       " True,\n",
       " 'Mumbai',\n",
       " 200,\n",
       " 45,\n",
       " 56,\n",
       " 12.09,\n",
       " True,\n",
       " 'Mumbai',\n",
       " 200]"
      ]
     },
     "execution_count": 63,
     "metadata": {},
     "output_type": "execute_result"
    }
   ],
   "source": [
    "alpha * 3"
   ]
  },
  {
   "cell_type": "code",
   "execution_count": 64,
   "id": "200328d7-b872-4efe-8348-6acb6b573406",
   "metadata": {},
   "outputs": [
    {
     "data": {
      "text/plain": [
       "[23, 11, 67, 3, 41, 26, 34, 12]"
      ]
     },
     "execution_count": 64,
     "metadata": {},
     "output_type": "execute_result"
    }
   ],
   "source": [
    "num + [34, 12]"
   ]
  },
  {
   "cell_type": "code",
   "execution_count": 65,
   "id": "be70422e-f26a-4e18-a721-33dd650259d8",
   "metadata": {},
   "outputs": [
    {
     "data": {
      "text/plain": [
       "[23, 11, 67, 3, 41, 26]"
      ]
     },
     "execution_count": 65,
     "metadata": {},
     "output_type": "execute_result"
    }
   ],
   "source": [
    "num"
   ]
  },
  {
   "cell_type": "code",
   "execution_count": 66,
   "id": "bad754ac-26eb-4004-8850-c40e608b5dd4",
   "metadata": {},
   "outputs": [],
   "source": [
    "num += [34, 12]"
   ]
  },
  {
   "cell_type": "code",
   "execution_count": 67,
   "id": "8494a435-6f86-487c-ae7a-890a63158132",
   "metadata": {},
   "outputs": [
    {
     "data": {
      "text/plain": [
       "[23, 11, 67, 3, 41, 26, 34, 12]"
      ]
     },
     "execution_count": 67,
     "metadata": {},
     "output_type": "execute_result"
    }
   ],
   "source": [
    "num"
   ]
  },
  {
   "cell_type": "markdown",
   "id": "62137ba0-d142-4720-8115-f0cb6f0d6406",
   "metadata": {},
   "source": [
    "##### List iteration"
   ]
  },
  {
   "cell_type": "code",
   "execution_count": 69,
   "id": "45faf3c2-adb9-433a-bcc9-c58ac9382d81",
   "metadata": {},
   "outputs": [
    {
     "name": "stdout",
     "output_type": "stream",
     "text": [
      "23\n",
      "11\n",
      "67\n",
      "3\n",
      "41\n",
      "26\n",
      "34\n",
      "12\n"
     ]
    }
   ],
   "source": [
    "for x in num:\n",
    "    print(x)"
   ]
  },
  {
   "cell_type": "code",
   "execution_count": 70,
   "id": "7fbe8c6a-8d86-4176-a790-35d4470eb8f8",
   "metadata": {},
   "outputs": [
    {
     "name": "stdout",
     "output_type": "stream",
     "text": [
      "23 11 67 3 41 26 34 12 "
     ]
    }
   ],
   "source": [
    "for x in num:\n",
    "    print(x, end = ' ')"
   ]
  },
  {
   "cell_type": "code",
   "execution_count": 71,
   "id": "6abc937a-f1e3-4bdd-8d01-daca58d586d0",
   "metadata": {},
   "outputs": [
    {
     "name": "stdout",
     "output_type": "stream",
     "text": [
      "26 34 12 "
     ]
    }
   ],
   "source": [
    "for x in num:\n",
    "    if x % 2 == 0:\n",
    "        print(x, end = ' ')"
   ]
  },
  {
   "cell_type": "markdown",
   "id": "55da8ead-0778-42f4-b932-0d947542e137",
   "metadata": {},
   "source": [
    "##### List Comprehension"
   ]
  },
  {
   "cell_type": "code",
   "execution_count": 73,
   "id": "ad1a88e4-5b45-4471-bbed-20953c37ad83",
   "metadata": {},
   "outputs": [
    {
     "data": {
      "text/plain": [
       "[23, 11, 67, 3, 41, 26, 34, 12]"
      ]
     },
     "execution_count": 73,
     "metadata": {},
     "output_type": "execute_result"
    }
   ],
   "source": [
    "num"
   ]
  },
  {
   "cell_type": "code",
   "execution_count": 74,
   "id": "89aabae4-e822-4fc1-9906-607da9accbb4",
   "metadata": {},
   "outputs": [],
   "source": [
    "# mapping\n",
    "new = [n/2 for n in num]"
   ]
  },
  {
   "cell_type": "code",
   "execution_count": 75,
   "id": "0db9387d-5904-499f-8916-3dc26996eda2",
   "metadata": {},
   "outputs": [
    {
     "data": {
      "text/plain": [
       "[11.5, 5.5, 33.5, 1.5, 20.5, 13.0, 17.0, 6.0]"
      ]
     },
     "execution_count": 75,
     "metadata": {},
     "output_type": "execute_result"
    }
   ],
   "source": [
    "new"
   ]
  },
  {
   "cell_type": "code",
   "execution_count": 76,
   "id": "db973263-cf03-431d-9553-60f1887829ac",
   "metadata": {},
   "outputs": [],
   "source": [
    "# mapping\n",
    "new = [n**2 for n in num]"
   ]
  },
  {
   "cell_type": "code",
   "execution_count": 77,
   "id": "3d99577f-d557-438d-be35-ca008e41b207",
   "metadata": {},
   "outputs": [
    {
     "data": {
      "text/plain": [
       "[529, 121, 4489, 9, 1681, 676, 1156, 144]"
      ]
     },
     "execution_count": 77,
     "metadata": {},
     "output_type": "execute_result"
    }
   ],
   "source": [
    "new"
   ]
  },
  {
   "cell_type": "code",
   "execution_count": 78,
   "id": "76fd3d32-ec79-4dce-8af0-aac7923b8426",
   "metadata": {},
   "outputs": [],
   "source": [
    "# mapping\n",
    "new = [[n**2, n**3] for n in num]"
   ]
  },
  {
   "cell_type": "code",
   "execution_count": 79,
   "id": "dc6be6f7-cfd6-4105-9f15-f561bb0b31cd",
   "metadata": {},
   "outputs": [
    {
     "data": {
      "text/plain": [
       "[[529, 12167],\n",
       " [121, 1331],\n",
       " [4489, 300763],\n",
       " [9, 27],\n",
       " [1681, 68921],\n",
       " [676, 17576],\n",
       " [1156, 39304],\n",
       " [144, 1728]]"
      ]
     },
     "execution_count": 79,
     "metadata": {},
     "output_type": "execute_result"
    }
   ],
   "source": [
    "new"
   ]
  },
  {
   "cell_type": "code",
   "execution_count": 80,
   "id": "74b429bc-5a40-4cd1-9e2f-50694e8bc82c",
   "metadata": {},
   "outputs": [],
   "source": [
    "# mapping\n",
    "new = [[n**2, n**3] for n in range(1,11)]"
   ]
  },
  {
   "cell_type": "code",
   "execution_count": 81,
   "id": "b4ff6c33-fad2-4068-8261-026dfd57c07f",
   "metadata": {},
   "outputs": [
    {
     "data": {
      "text/plain": [
       "[[1, 1],\n",
       " [4, 8],\n",
       " [9, 27],\n",
       " [16, 64],\n",
       " [25, 125],\n",
       " [36, 216],\n",
       " [49, 343],\n",
       " [64, 512],\n",
       " [81, 729],\n",
       " [100, 1000]]"
      ]
     },
     "execution_count": 81,
     "metadata": {},
     "output_type": "execute_result"
    }
   ],
   "source": [
    "new"
   ]
  },
  {
   "cell_type": "code",
   "execution_count": 82,
   "id": "ab50572c-1eea-4458-bb00-ef162a7022c5",
   "metadata": {},
   "outputs": [],
   "source": [
    "# filters\n",
    "new = [n for n in num if n > 25]"
   ]
  },
  {
   "cell_type": "code",
   "execution_count": 83,
   "id": "8badce49-571c-4f24-b80e-239d20c9a4bd",
   "metadata": {},
   "outputs": [
    {
     "data": {
      "text/plain": [
       "[67, 41, 26, 34]"
      ]
     },
     "execution_count": 83,
     "metadata": {},
     "output_type": "execute_result"
    }
   ],
   "source": [
    "new"
   ]
  },
  {
   "cell_type": "code",
   "execution_count": 84,
   "id": "808b0acb-3b86-4d47-bcec-f5cb1debaed2",
   "metadata": {},
   "outputs": [],
   "source": [
    "# filters\n",
    "new = [n for n in num if n % 2 == 0]"
   ]
  },
  {
   "cell_type": "code",
   "execution_count": 85,
   "id": "14fbbba5-0b84-428e-9cb3-50a101af7011",
   "metadata": {},
   "outputs": [
    {
     "data": {
      "text/plain": [
       "[26, 34, 12]"
      ]
     },
     "execution_count": 85,
     "metadata": {},
     "output_type": "execute_result"
    }
   ],
   "source": [
    "new"
   ]
  },
  {
   "cell_type": "code",
   "execution_count": 86,
   "id": "fe160b24-f6e1-4ba3-9dd0-071487c2cc6d",
   "metadata": {},
   "outputs": [
    {
     "data": {
      "text/plain": [
       "[23, 11, 67, 3, 41]"
      ]
     },
     "execution_count": 86,
     "metadata": {},
     "output_type": "execute_result"
    }
   ],
   "source": [
    "# filters\n",
    "new = [n for n in num if n % 2 == 1]\n",
    "new"
   ]
  },
  {
   "cell_type": "code",
   "execution_count": 87,
   "id": "3d0f259a-f0bd-41e0-a0e4-09fbef974018",
   "metadata": {},
   "outputs": [
    {
     "data": {
      "text/plain": [
       "[529, 121, 4489, 9, 1681]"
      ]
     },
     "execution_count": 87,
     "metadata": {},
     "output_type": "execute_result"
    }
   ],
   "source": [
    "# filters\n",
    "new = [n * n for n in num if n % 2 == 1]\n",
    "new"
   ]
  },
  {
   "cell_type": "markdown",
   "id": "296c744f-83c1-47cd-a23c-04c7668a4978",
   "metadata": {},
   "source": [
    "##### Empty list"
   ]
  },
  {
   "cell_type": "code",
   "execution_count": 90,
   "id": "86ae0e51-e34c-4c84-b5a0-bc205c77bc2a",
   "metadata": {},
   "outputs": [],
   "source": [
    "e = []"
   ]
  },
  {
   "cell_type": "code",
   "execution_count": 91,
   "id": "39ba77e4-c120-4c17-af8b-3a703b4161d2",
   "metadata": {},
   "outputs": [
    {
     "data": {
      "text/plain": [
       "list"
      ]
     },
     "execution_count": 91,
     "metadata": {},
     "output_type": "execute_result"
    }
   ],
   "source": [
    "type(e)"
   ]
  },
  {
   "cell_type": "code",
   "execution_count": 92,
   "id": "8787f0ca-4730-4125-89d3-18acd7511d39",
   "metadata": {},
   "outputs": [
    {
     "ename": "IndexError",
     "evalue": "list index out of range",
     "output_type": "error",
     "traceback": [
      "\u001b[0;31m---------------------------------------------------------------------------\u001b[0m",
      "\u001b[0;31mIndexError\u001b[0m                                Traceback (most recent call last)",
      "Cell \u001b[0;32mIn[92], line 1\u001b[0m\n\u001b[0;32m----> 1\u001b[0m \u001b[43me\u001b[49m\u001b[43m[\u001b[49m\u001b[38;5;241;43m0\u001b[39;49m\u001b[43m]\u001b[49m\n",
      "\u001b[0;31mIndexError\u001b[0m: list index out of range"
     ]
    }
   ],
   "source": [
    "e[0]"
   ]
  },
  {
   "cell_type": "code",
   "execution_count": 93,
   "id": "9af0de19-2fe8-4bc0-a88f-f8ce8f058ca9",
   "metadata": {},
   "outputs": [],
   "source": [
    "e += [12]"
   ]
  },
  {
   "cell_type": "code",
   "execution_count": 94,
   "id": "44855617-4d93-4e7b-af3d-7f9dad0cc0a5",
   "metadata": {},
   "outputs": [
    {
     "data": {
      "text/plain": [
       "[12]"
      ]
     },
     "execution_count": 94,
     "metadata": {},
     "output_type": "execute_result"
    }
   ],
   "source": [
    "e"
   ]
  },
  {
   "cell_type": "code",
   "execution_count": 95,
   "id": "53e0db6e-e842-479c-a11d-609aa577a9c5",
   "metadata": {},
   "outputs": [],
   "source": [
    "e += [10, 56]"
   ]
  },
  {
   "cell_type": "code",
   "execution_count": 96,
   "id": "8b9b86fe-4841-47ca-965c-cfaed2bfcc20",
   "metadata": {},
   "outputs": [
    {
     "data": {
      "text/plain": [
       "[12, 10, 56]"
      ]
     },
     "execution_count": 96,
     "metadata": {},
     "output_type": "execute_result"
    }
   ],
   "source": [
    "e"
   ]
  },
  {
   "cell_type": "code",
   "execution_count": 101,
   "id": "ecac474b-c60d-417e-aad9-4a9fa9ef04fd",
   "metadata": {},
   "outputs": [],
   "source": [
    "##### Unpacking the elements\n",
    "x, y, z = e"
   ]
  },
  {
   "cell_type": "code",
   "execution_count": 102,
   "id": "665cd6eb-4f46-4556-bde3-a4864f415fa8",
   "metadata": {},
   "outputs": [
    {
     "data": {
      "text/plain": [
       "12"
      ]
     },
     "execution_count": 102,
     "metadata": {},
     "output_type": "execute_result"
    }
   ],
   "source": [
    "x"
   ]
  },
  {
   "cell_type": "code",
   "execution_count": 99,
   "id": "e2cc9c9c-6f08-4446-913f-02967f537285",
   "metadata": {},
   "outputs": [
    {
     "data": {
      "text/plain": [
       "10"
      ]
     },
     "execution_count": 99,
     "metadata": {},
     "output_type": "execute_result"
    }
   ],
   "source": [
    "y"
   ]
  },
  {
   "cell_type": "code",
   "execution_count": 100,
   "id": "d55ed627-210b-4790-9ebd-ecb871b77193",
   "metadata": {},
   "outputs": [
    {
     "data": {
      "text/plain": [
       "56"
      ]
     },
     "execution_count": 100,
     "metadata": {},
     "output_type": "execute_result"
    }
   ],
   "source": [
    "z"
   ]
  },
  {
   "cell_type": "markdown",
   "id": "f5ec15f0-0886-4f80-8ed5-035467ada00d",
   "metadata": {},
   "source": [
    "##### Functions"
   ]
  },
  {
   "cell_type": "code",
   "execution_count": 105,
   "id": "be7887f7-6e9a-4fc9-a247-44cb9fac8fb1",
   "metadata": {},
   "outputs": [
    {
     "data": {
      "text/plain": [
       "8"
      ]
     },
     "execution_count": 105,
     "metadata": {},
     "output_type": "execute_result"
    }
   ],
   "source": [
    "len(num)"
   ]
  },
  {
   "cell_type": "code",
   "execution_count": 106,
   "id": "4afe66a9-e6dc-4591-9007-7277e5cbd153",
   "metadata": {},
   "outputs": [
    {
     "data": {
      "text/plain": [
       "[23, 11, 67, 3, 41, 26, 34, 12]"
      ]
     },
     "execution_count": 106,
     "metadata": {},
     "output_type": "execute_result"
    }
   ],
   "source": [
    "num"
   ]
  },
  {
   "cell_type": "code",
   "execution_count": 107,
   "id": "9a6936d2-bf29-45e3-88df-a474299633a2",
   "metadata": {},
   "outputs": [
    {
     "data": {
      "text/plain": [
       "67"
      ]
     },
     "execution_count": 107,
     "metadata": {},
     "output_type": "execute_result"
    }
   ],
   "source": [
    "max(num)"
   ]
  },
  {
   "cell_type": "code",
   "execution_count": 108,
   "id": "eb0d523b-fab5-477e-91bb-16de2237f6c6",
   "metadata": {},
   "outputs": [
    {
     "data": {
      "text/plain": [
       "3"
      ]
     },
     "execution_count": 108,
     "metadata": {},
     "output_type": "execute_result"
    }
   ],
   "source": [
    "min(num)"
   ]
  },
  {
   "cell_type": "code",
   "execution_count": 109,
   "id": "fbab51a3-49db-4050-bcd9-17e4b3f3f711",
   "metadata": {},
   "outputs": [
    {
     "data": {
      "text/plain": [
       "217"
      ]
     },
     "execution_count": 109,
     "metadata": {},
     "output_type": "execute_result"
    }
   ],
   "source": [
    "sum(num)"
   ]
  },
  {
   "cell_type": "code",
   "execution_count": 110,
   "id": "0a8c6c12-923a-422f-9269-85e78934f694",
   "metadata": {},
   "outputs": [
    {
     "data": {
      "text/plain": [
       "[3, 11, 12, 23, 26, 34, 41, 67]"
      ]
     },
     "execution_count": 110,
     "metadata": {},
     "output_type": "execute_result"
    }
   ],
   "source": [
    "sorted(num)"
   ]
  },
  {
   "cell_type": "code",
   "execution_count": 111,
   "id": "58724901-2ff4-42f9-bc6a-91be35205712",
   "metadata": {},
   "outputs": [
    {
     "data": {
      "text/plain": [
       "[67, 41, 34, 26, 23, 12, 11, 3]"
      ]
     },
     "execution_count": 111,
     "metadata": {},
     "output_type": "execute_result"
    }
   ],
   "source": [
    "sorted(num, reverse=True)"
   ]
  },
  {
   "cell_type": "code",
   "execution_count": 112,
   "id": "fc86e477-8e4d-4ed7-bc5b-ef7be76fd7bd",
   "metadata": {},
   "outputs": [],
   "source": [
    "name = 'Tushar'"
   ]
  },
  {
   "cell_type": "code",
   "execution_count": 113,
   "id": "37cd116d-d701-4b6b-a292-5d85a33b7335",
   "metadata": {},
   "outputs": [
    {
     "data": {
      "text/plain": [
       "['T', 'u', 's', 'h', 'a', 'r']"
      ]
     },
     "execution_count": 113,
     "metadata": {},
     "output_type": "execute_result"
    }
   ],
   "source": [
    "list(name)"
   ]
  },
  {
   "cell_type": "markdown",
   "id": "bddc82f9-2309-4d48-a8d2-d6b987ec3173",
   "metadata": {},
   "source": [
    "##### List methods"
   ]
  },
  {
   "cell_type": "code",
   "execution_count": 115,
   "id": "924a300d-87cd-480e-b6e1-0bdf32840b7c",
   "metadata": {},
   "outputs": [
    {
     "data": {
      "text/plain": [
       "[23, 11, 67, 3, 41, 26, 34, 12]"
      ]
     },
     "execution_count": 115,
     "metadata": {},
     "output_type": "execute_result"
    }
   ],
   "source": [
    "num"
   ]
  },
  {
   "cell_type": "code",
   "execution_count": 116,
   "id": "f2a2272d-add4-4066-b224-c7af8e6eb2db",
   "metadata": {},
   "outputs": [],
   "source": [
    "num.append(51)"
   ]
  },
  {
   "cell_type": "code",
   "execution_count": 117,
   "id": "2807d5bc-6bbe-4766-952b-a89fc87d4dac",
   "metadata": {},
   "outputs": [
    {
     "data": {
      "text/plain": [
       "[23, 11, 67, 3, 41, 26, 34, 12, 51]"
      ]
     },
     "execution_count": 117,
     "metadata": {},
     "output_type": "execute_result"
    }
   ],
   "source": [
    "num"
   ]
  },
  {
   "cell_type": "code",
   "execution_count": 118,
   "id": "ca231135-dc2e-4475-a5eb-5013cf33a271",
   "metadata": {},
   "outputs": [],
   "source": [
    "x = [1,2,3]\n",
    "y = [1,2,3]"
   ]
  },
  {
   "cell_type": "code",
   "execution_count": 119,
   "id": "891ae5c3-2cf3-4592-b017-2525990a3ce3",
   "metadata": {},
   "outputs": [],
   "source": [
    "x.append([4,5,6])\n",
    "y.extend([4,5,6])"
   ]
  },
  {
   "cell_type": "code",
   "execution_count": 120,
   "id": "5ce625a5-e7d8-4c12-a166-6267e8928bd1",
   "metadata": {},
   "outputs": [
    {
     "data": {
      "text/plain": [
       "[1, 2, 3, [4, 5, 6]]"
      ]
     },
     "execution_count": 120,
     "metadata": {},
     "output_type": "execute_result"
    }
   ],
   "source": [
    "x"
   ]
  },
  {
   "cell_type": "code",
   "execution_count": 121,
   "id": "30ae8459-9d3e-4b99-9077-fc4c9f647fd1",
   "metadata": {},
   "outputs": [
    {
     "data": {
      "text/plain": [
       "[1, 2, 3, 4, 5, 6]"
      ]
     },
     "execution_count": 121,
     "metadata": {},
     "output_type": "execute_result"
    }
   ],
   "source": [
    "y"
   ]
  },
  {
   "cell_type": "code",
   "execution_count": 122,
   "id": "71b37f51-3115-4ce2-ac90-0d039457342c",
   "metadata": {},
   "outputs": [],
   "source": [
    "num.insert(3,17)"
   ]
  },
  {
   "cell_type": "code",
   "execution_count": 123,
   "id": "41274095-d155-4114-91cf-38dbbefb099f",
   "metadata": {},
   "outputs": [
    {
     "data": {
      "text/plain": [
       "[23, 11, 67, 17, 3, 41, 26, 34, 12, 51]"
      ]
     },
     "execution_count": 123,
     "metadata": {},
     "output_type": "execute_result"
    }
   ],
   "source": [
    "num"
   ]
  },
  {
   "cell_type": "code",
   "execution_count": 124,
   "id": "445a1111-45e8-4f3d-bc04-fff122e8654f",
   "metadata": {},
   "outputs": [],
   "source": [
    "num.remove(26)"
   ]
  },
  {
   "cell_type": "code",
   "execution_count": 125,
   "id": "abbfa76a-326d-4bd5-9529-d9c768afd79b",
   "metadata": {},
   "outputs": [
    {
     "data": {
      "text/plain": [
       "[23, 11, 67, 17, 3, 41, 34, 12, 51]"
      ]
     },
     "execution_count": 125,
     "metadata": {},
     "output_type": "execute_result"
    }
   ],
   "source": [
    "num"
   ]
  },
  {
   "cell_type": "code",
   "execution_count": 126,
   "id": "f1b6083a-b686-44fb-b5dd-f12294f7850c",
   "metadata": {},
   "outputs": [
    {
     "data": {
      "text/plain": [
       "51"
      ]
     },
     "execution_count": 126,
     "metadata": {},
     "output_type": "execute_result"
    }
   ],
   "source": [
    "num.pop()"
   ]
  },
  {
   "cell_type": "code",
   "execution_count": 127,
   "id": "4f15ec5f-7d79-4ee8-b7db-31799d03cf28",
   "metadata": {},
   "outputs": [
    {
     "data": {
      "text/plain": [
       "[23, 11, 67, 17, 3, 41, 34, 12]"
      ]
     },
     "execution_count": 127,
     "metadata": {},
     "output_type": "execute_result"
    }
   ],
   "source": [
    "num"
   ]
  },
  {
   "cell_type": "code",
   "execution_count": 128,
   "id": "cbb6d64f-2e6d-4fab-8ecd-ba0972b1c224",
   "metadata": {},
   "outputs": [
    {
     "data": {
      "text/plain": [
       "3"
      ]
     },
     "execution_count": 128,
     "metadata": {},
     "output_type": "execute_result"
    }
   ],
   "source": [
    "num.index(17)"
   ]
  },
  {
   "cell_type": "code",
   "execution_count": 129,
   "id": "1652dd87-0e75-4917-bc5b-18f004156608",
   "metadata": {},
   "outputs": [
    {
     "data": {
      "text/plain": [
       "1"
      ]
     },
     "execution_count": 129,
     "metadata": {},
     "output_type": "execute_result"
    }
   ],
   "source": [
    "num.count(11)"
   ]
  },
  {
   "cell_type": "code",
   "execution_count": 130,
   "id": "0b7b594c-2a72-4aac-a66f-79917bbf292f",
   "metadata": {},
   "outputs": [],
   "source": [
    "num.reverse()"
   ]
  },
  {
   "cell_type": "code",
   "execution_count": 131,
   "id": "71d1dc23-0cfe-4c32-88bd-839146fce8c2",
   "metadata": {},
   "outputs": [
    {
     "data": {
      "text/plain": [
       "[12, 34, 41, 3, 17, 67, 11, 23]"
      ]
     },
     "execution_count": 131,
     "metadata": {},
     "output_type": "execute_result"
    }
   ],
   "source": [
    "num"
   ]
  },
  {
   "cell_type": "code",
   "execution_count": 132,
   "id": "9f5936d6-ddf2-4559-966f-b14583acde69",
   "metadata": {},
   "outputs": [],
   "source": [
    "num.sort()"
   ]
  },
  {
   "cell_type": "code",
   "execution_count": 133,
   "id": "888a8fc0-6fee-475b-beb1-9c62048d3282",
   "metadata": {},
   "outputs": [
    {
     "data": {
      "text/plain": [
       "[3, 11, 12, 17, 23, 34, 41, 67]"
      ]
     },
     "execution_count": 133,
     "metadata": {},
     "output_type": "execute_result"
    }
   ],
   "source": [
    "num"
   ]
  },
  {
   "cell_type": "code",
   "execution_count": 134,
   "id": "603fd650-4778-4d23-b383-6e8152fd5c8f",
   "metadata": {},
   "outputs": [],
   "source": [
    "num.sort(reverse=True)"
   ]
  },
  {
   "cell_type": "code",
   "execution_count": 135,
   "id": "17bd1753-731b-4253-aeac-13e71d5df3ea",
   "metadata": {},
   "outputs": [
    {
     "data": {
      "text/plain": [
       "[67, 41, 34, 23, 17, 12, 11, 3]"
      ]
     },
     "execution_count": 135,
     "metadata": {},
     "output_type": "execute_result"
    }
   ],
   "source": [
    "num"
   ]
  },
  {
   "cell_type": "code",
   "execution_count": 136,
   "id": "06053d9e-e617-4510-9abc-178c5c1c2cc7",
   "metadata": {},
   "outputs": [],
   "source": [
    "num.clear()"
   ]
  },
  {
   "cell_type": "code",
   "execution_count": 137,
   "id": "b5263675-7fbc-4bb1-b053-3d0c8cad45f7",
   "metadata": {},
   "outputs": [
    {
     "data": {
      "text/plain": [
       "[]"
      ]
     },
     "execution_count": 137,
     "metadata": {},
     "output_type": "execute_result"
    }
   ],
   "source": [
    "num"
   ]
  },
  {
   "cell_type": "markdown",
   "id": "61e5c567-714a-4736-a8bc-5fd6eae4aa54",
   "metadata": {},
   "source": [
    "##### Read from user and initialize the list"
   ]
  },
  {
   "cell_type": "code",
   "execution_count": 142,
   "id": "987ae7c3-9108-4ce9-9828-58c327cdbf56",
   "metadata": {},
   "outputs": [
    {
     "name": "stdin",
     "output_type": "stream",
     "text": [
      "How many elements?  5\n",
      "Enter the number: 34\n",
      "Enter the number: 11\n",
      "Enter the number: 65\n",
      "Enter the number: 37\n",
      "Enter the number: 88\n"
     ]
    },
    {
     "name": "stdout",
     "output_type": "stream",
     "text": [
      "Your list is: [34, 11, 65, 37, 88]\n",
      "Reverse list is: [88, 37, 65, 11, 34]\n",
      "Your list after removing: [37, 65, 11, 34]\n",
      "Your list after inserting: [15, 37, 65, 11, 34]\n",
      "Your list after sorting: [11, 15, 34, 37, 65]\n"
     ]
    }
   ],
   "source": [
    "count = int(input('How many elements? '))\n",
    "num = []\n",
    "for i in range(count):\n",
    "    n = int(input('Enter the number:'))\n",
    "    num.append(n)\n",
    "\n",
    "print('Your list is:', num)\n",
    "num.reverse()\n",
    "print('Reverse list is:', num)\n",
    "del num[0]\n",
    "print('Your list after removing:', num)\n",
    "num.insert(0, 15)\n",
    "print('Your list after inserting:', num)\n",
    "num.sort()\n",
    "print('Your list after sorting:', num)"
   ]
  },
  {
   "cell_type": "code",
   "execution_count": 141,
   "id": "0dfe5f01-a8e4-4bfa-9729-feef77554e54",
   "metadata": {},
   "outputs": [],
   "source": [
    "# Print the list\n",
    "# Print the list in reverse\n",
    "# Remove the element at 0 position\n",
    "# Insert element 15 at position 0\n",
    "# Sort the list and print"
   ]
  },
  {
   "cell_type": "markdown",
   "id": "db799d3e-fda3-4f8d-b855-c3cc22d656f5",
   "metadata": {},
   "source": [
    "##### Simple assignment"
   ]
  },
  {
   "cell_type": "markdown",
   "id": "988aad52-f43d-4b91-86f2-2b99df31d785",
   "metadata": {},
   "source": [
    "This is a list of some metallic elements.\n",
    "**metals = ['silver','gold','aluminium','copper','iron','silver','gold','silver','copper','silver']**\n",
    "Make a new list from this list that is almost identical to the metals list: the new contains the same items, in the same order, except that it does NOT contain the item 'copper'."
   ]
  },
  {
   "cell_type": "code",
   "execution_count": 145,
   "id": "0d620e02-64e3-4841-9fb7-4712c500ba66",
   "metadata": {},
   "outputs": [],
   "source": [
    "metals = ['silver','gold','aluminium','copper','iron','silver','gold','silver','copper','silver']"
   ]
  },
  {
   "cell_type": "code",
   "execution_count": 146,
   "id": "b6f8824a-ede2-49a7-8906-b72913fc2665",
   "metadata": {},
   "outputs": [],
   "source": [
    "new_metals = []\n",
    "for metal in metals:\n",
    "    if metal != 'copper':\n",
    "        new_metals.append(metal)"
   ]
  },
  {
   "cell_type": "code",
   "execution_count": 147,
   "id": "537843ea-d190-4382-9834-02bab57ef75b",
   "metadata": {},
   "outputs": [
    {
     "data": {
      "text/plain": [
       "['silver', 'gold', 'aluminium', 'iron', 'silver', 'gold', 'silver', 'silver']"
      ]
     },
     "execution_count": 147,
     "metadata": {},
     "output_type": "execute_result"
    }
   ],
   "source": [
    "new_metals"
   ]
  },
  {
   "cell_type": "code",
   "execution_count": 148,
   "id": "56e8aa70-01fc-46cc-815d-82b08c5108d4",
   "metadata": {},
   "outputs": [],
   "source": [
    "num = [5, 6, 2, 8, 9, 1, 3, 7, 4, 0]"
   ]
  },
  {
   "cell_type": "code",
   "execution_count": 150,
   "id": "a47dfa84-b3c6-494f-9015-18ab98d44985",
   "metadata": {},
   "outputs": [],
   "source": [
    "lower = num[:5]\n",
    "higher = num[5:]"
   ]
  },
  {
   "cell_type": "code",
   "execution_count": 151,
   "id": "53d2a076-d70d-4121-adc8-207723178388",
   "metadata": {},
   "outputs": [
    {
     "data": {
      "text/plain": [
       "[5, 6, 2, 8, 9]"
      ]
     },
     "execution_count": 151,
     "metadata": {},
     "output_type": "execute_result"
    }
   ],
   "source": [
    "lower"
   ]
  },
  {
   "cell_type": "code",
   "execution_count": 152,
   "id": "94056092-ea76-42ab-af24-0a9376e68932",
   "metadata": {},
   "outputs": [
    {
     "data": {
      "text/plain": [
       "[1, 3, 7, 4, 0]"
      ]
     },
     "execution_count": 152,
     "metadata": {},
     "output_type": "execute_result"
    }
   ],
   "source": [
    "higher"
   ]
  },
  {
   "cell_type": "code",
   "execution_count": 153,
   "id": "d6e7ad44-9820-43b3-8d5d-822facef9fc9",
   "metadata": {},
   "outputs": [],
   "source": [
    "higher.sort()"
   ]
  },
  {
   "cell_type": "code",
   "execution_count": 154,
   "id": "5d4146d0-17e5-4cc3-837d-202c62351956",
   "metadata": {},
   "outputs": [
    {
     "data": {
      "text/plain": [
       "[5, 6, 2, 8, 9, 0, 1, 3, 4, 7]"
      ]
     },
     "execution_count": 154,
     "metadata": {},
     "output_type": "execute_result"
    }
   ],
   "source": [
    "num = lower + higher\n",
    "num"
   ]
  },
  {
   "cell_type": "code",
   "execution_count": null,
   "id": "e198e4ff-0ab6-44b3-847a-b54278b65b93",
   "metadata": {},
   "outputs": [],
   "source": []
  }
 ],
 "metadata": {
  "kernelspec": {
   "display_name": "Python 3 (ipykernel)",
   "language": "python",
   "name": "python3"
  },
  "language_info": {
   "codemirror_mode": {
    "name": "ipython",
    "version": 3
   },
   "file_extension": ".py",
   "mimetype": "text/x-python",
   "name": "python",
   "nbconvert_exporter": "python",
   "pygments_lexer": "ipython3",
   "version": "3.10.12"
  }
 },
 "nbformat": 4,
 "nbformat_minor": 5
}
