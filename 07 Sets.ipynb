{
 "cells": [
  {
   "cell_type": "markdown",
   "id": "e328f1e3-4708-4378-92fd-8d2f427c9877",
   "metadata": {},
   "source": [
    "##### Meaning"
   ]
  },
  {
   "cell_type": "markdown",
   "id": "cb459151-0aaf-457a-bc87-d18b9645946f",
   "metadata": {},
   "source": [
    "In Python, a set is a collection of unique, unordered, and mutable elements. Sets are useful for tasks such as membership testing and removing duplicates from a sequence."
   ]
  },
  {
   "cell_type": "code",
   "execution_count": 2,
   "id": "a576772f-86f8-46dc-b0bd-c78dacdd5f39",
   "metadata": {},
   "outputs": [],
   "source": [
    "s = {45,23,65,43,26,43,56,43,23,17,42,43}"
   ]
  },
  {
   "cell_type": "code",
   "execution_count": 3,
   "id": "fb99bdd3-5b37-4791-8802-ab6801540551",
   "metadata": {},
   "outputs": [
    {
     "data": {
      "text/plain": [
       "{17, 23, 26, 42, 43, 45, 56, 65}"
      ]
     },
     "execution_count": 3,
     "metadata": {},
     "output_type": "execute_result"
    }
   ],
   "source": [
    "s"
   ]
  },
  {
   "cell_type": "code",
   "execution_count": 4,
   "id": "c260bbcf-e38a-4b74-a45f-4430f0033da1",
   "metadata": {},
   "outputs": [
    {
     "data": {
      "text/plain": [
       "set"
      ]
     },
     "execution_count": 4,
     "metadata": {},
     "output_type": "execute_result"
    }
   ],
   "source": [
    "type(s)"
   ]
  },
  {
   "cell_type": "code",
   "execution_count": 5,
   "id": "9eec17aa-57ef-4c7f-8dba-4227f7f64134",
   "metadata": {},
   "outputs": [
    {
     "ename": "TypeError",
     "evalue": "'set' object is not subscriptable",
     "output_type": "error",
     "traceback": [
      "\u001b[0;31m---------------------------------------------------------------------------\u001b[0m",
      "\u001b[0;31mTypeError\u001b[0m                                 Traceback (most recent call last)",
      "Cell \u001b[0;32mIn[5], line 1\u001b[0m\n\u001b[0;32m----> 1\u001b[0m \u001b[43ms\u001b[49m\u001b[43m[\u001b[49m\u001b[38;5;241;43m0\u001b[39;49m\u001b[43m]\u001b[49m\n",
      "\u001b[0;31mTypeError\u001b[0m: 'set' object is not subscriptable"
     ]
    }
   ],
   "source": [
    "s[0]"
   ]
  },
  {
   "cell_type": "code",
   "execution_count": 6,
   "id": "baa926e6-6e2f-43c8-acb8-0c6a8783f53a",
   "metadata": {},
   "outputs": [
    {
     "data": {
      "text/plain": [
       "8"
      ]
     },
     "execution_count": 6,
     "metadata": {},
     "output_type": "execute_result"
    }
   ],
   "source": [
    "len(s)"
   ]
  },
  {
   "cell_type": "code",
   "execution_count": 7,
   "id": "60d047d8-54f2-4f1f-a809-a563894a9554",
   "metadata": {},
   "outputs": [],
   "source": [
    "s.add(10)"
   ]
  },
  {
   "cell_type": "code",
   "execution_count": 8,
   "id": "82861bfa-602d-44c0-80fa-f18ead23a109",
   "metadata": {},
   "outputs": [
    {
     "data": {
      "text/plain": [
       "{10, 17, 23, 26, 42, 43, 45, 56, 65}"
      ]
     },
     "execution_count": 8,
     "metadata": {},
     "output_type": "execute_result"
    }
   ],
   "source": [
    "s"
   ]
  },
  {
   "cell_type": "code",
   "execution_count": 9,
   "id": "9de94b3b-c68a-4f2f-990b-5031da62e30e",
   "metadata": {},
   "outputs": [],
   "source": [
    "s.add(42)"
   ]
  },
  {
   "cell_type": "code",
   "execution_count": 10,
   "id": "a1bab03d-f964-4102-a307-74cde0449114",
   "metadata": {},
   "outputs": [
    {
     "data": {
      "text/plain": [
       "{10, 17, 23, 26, 42, 43, 45, 56, 65}"
      ]
     },
     "execution_count": 10,
     "metadata": {},
     "output_type": "execute_result"
    }
   ],
   "source": [
    "s"
   ]
  },
  {
   "cell_type": "code",
   "execution_count": null,
   "id": "6e6aaefb-7b20-4886-839f-37ea831a541a",
   "metadata": {},
   "outputs": [],
   "source": []
  }
 ],
 "metadata": {
  "kernelspec": {
   "display_name": "Python 3 (ipykernel)",
   "language": "python",
   "name": "python3"
  },
  "language_info": {
   "codemirror_mode": {
    "name": "ipython",
    "version": 3
   },
   "file_extension": ".py",
   "mimetype": "text/x-python",
   "name": "python",
   "nbconvert_exporter": "python",
   "pygments_lexer": "ipython3",
   "version": "3.10.12"
  }
 },
 "nbformat": 4,
 "nbformat_minor": 5
}
