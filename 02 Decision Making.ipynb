{
 "cells": [
  {
   "cell_type": "markdown",
   "id": "221e9cfb-0f01-4060-9e97-6ba1938518b4",
   "metadata": {},
   "source": [
    "##### if statement"
   ]
  },
  {
   "cell_type": "code",
   "execution_count": 2,
   "id": "b0ae8f29-1c25-40f4-b827-a0383c963cca",
   "metadata": {},
   "outputs": [],
   "source": [
    "num = 24\n",
    "if num > 100:\n",
    "    print('YES')"
   ]
  },
  {
   "cell_type": "code",
   "execution_count": 3,
   "id": "076160d5-663b-46bf-a0b9-86588ada0058",
   "metadata": {},
   "outputs": [
    {
     "name": "stdout",
     "output_type": "stream",
     "text": [
      "YES\n"
     ]
    }
   ],
   "source": [
    "num = 124\n",
    "if num > 100:\n",
    "    print('YES')"
   ]
  },
  {
   "cell_type": "code",
   "execution_count": 6,
   "id": "92b6b66a-83a5-49ea-ad8b-b43ce3fa6848",
   "metadata": {},
   "outputs": [
    {
     "name": "stdout",
     "output_type": "stream",
     "text": [
      "Goodbye!\n"
     ]
    }
   ],
   "source": [
    "num = 24\n",
    "if num > 100:\n",
    "    print('YES')\n",
    "print('Goodbye!')"
   ]
  },
  {
   "cell_type": "code",
   "execution_count": 9,
   "id": "6c320bf0-9f3f-440f-83ae-9619c0bbac95",
   "metadata": {},
   "outputs": [
    {
     "name": "stdout",
     "output_type": "stream",
     "text": [
      "YES\n",
      "Goodbye!\n"
     ]
    }
   ],
   "source": [
    "num = 124\n",
    "if num > 100:\n",
    "    print('YES')\n",
    "print('Goodbye!')"
   ]
  },
  {
   "cell_type": "code",
   "execution_count": 11,
   "id": "990791be-d58c-4742-aada-fbc969acc4d6",
   "metadata": {},
   "outputs": [
    {
     "name": "stdin",
     "output_type": "stream",
     "text": [
      "Enter the number:  -67\n"
     ]
    },
    {
     "name": "stdout",
     "output_type": "stream",
     "text": [
      "Negative Number\n"
     ]
    }
   ],
   "source": [
    "# Write a program to check the number is positive or negative?\n",
    "\n",
    "num = int(input('Enter the number: '))\n",
    "\n",
    "if num > 0:\n",
    "    print('Positive Number')\n",
    "else:\n",
    "    print('Negative Number')"
   ]
  },
  {
   "cell_type": "code",
   "execution_count": 17,
   "id": "44be7b6b-75f6-478b-b3d0-ecdcac633fb6",
   "metadata": {},
   "outputs": [
    {
     "name": "stdin",
     "output_type": "stream",
     "text": [
      "Enter the number:  0\n"
     ]
    },
    {
     "name": "stdout",
     "output_type": "stream",
     "text": [
      "Negative Number\n",
      "Good Bye!\n",
      "Done!\n"
     ]
    }
   ],
   "source": [
    "# Write a program to check the number is positive or negative?\n",
    "\n",
    "num = int(input('Enter the number: '))\n",
    "\n",
    "if num > 0:\n",
    "    print('Positive Number')\n",
    "    print('Welcome!')\n",
    "else:\n",
    "    print('Negative Number')\n",
    "    print('Good Bye!')\n",
    "\n",
    "print('Done!')"
   ]
  },
  {
   "cell_type": "code",
   "execution_count": 16,
   "id": "c1cb5a42-7d26-4695-ad23-85a21d046cc7",
   "metadata": {},
   "outputs": [
    {
     "name": "stdin",
     "output_type": "stream",
     "text": [
      "Enter the number:  34\n"
     ]
    },
    {
     "name": "stdout",
     "output_type": "stream",
     "text": [
      "Even Number\n"
     ]
    }
   ],
   "source": [
    "# Read the number from user and write a program to check the number is odd or even?\n",
    "num = int(input('Enter the number: '))\n",
    "\n",
    "if num % 2 == 0:\n",
    "    print('Even Number')\n",
    "else:\n",
    "    print('Odd Number')"
   ]
  },
  {
   "cell_type": "code",
   "execution_count": 20,
   "id": "db6ee7d1-420c-4259-8adf-f410c73ffef4",
   "metadata": {},
   "outputs": [
    {
     "name": "stdin",
     "output_type": "stream",
     "text": [
      "Enter the number:  34\n"
     ]
    },
    {
     "name": "stdout",
     "output_type": "stream",
     "text": [
      "Positive Number\n"
     ]
    }
   ],
   "source": [
    "num = int(input('Enter the number: '))\n",
    "\n",
    "if num > 0:               # Compulsory, Condition, Non-repeatable\n",
    "    print('Positive Number')\n",
    "elif num == 0:            # Optional, Condition, Repeatable\n",
    "    print('It is ZERO!')\n",
    "else:                     # Optional, No-condition, Non-repeatable\n",
    "    print('Negative Number')"
   ]
  },
  {
   "cell_type": "markdown",
   "id": "f9a91514-8e59-44bf-8a6d-4fcbe4922277",
   "metadata": {},
   "source": [
    "##### Nested If"
   ]
  },
  {
   "cell_type": "code",
   "execution_count": 24,
   "id": "81f35546-5450-4cfd-b570-fdcf2cb901bd",
   "metadata": {},
   "outputs": [
    {
     "name": "stdin",
     "output_type": "stream",
     "text": [
      "Enter the number:  87\n"
     ]
    },
    {
     "name": "stdout",
     "output_type": "stream",
     "text": [
      "YES\n"
     ]
    }
   ],
   "source": [
    "# Check to see if the number within 50 to 100\n",
    "num = int(input('Enter the number: '))\n",
    "\n",
    "if num >= 50:\n",
    "    if num <= 100:\n",
    "        print('YES')\n",
    "    else:\n",
    "        print('NO')\n",
    "else:\n",
    "    print('NO')"
   ]
  },
  {
   "cell_type": "code",
   "execution_count": 27,
   "id": "614aae10-c881-4e95-8482-ba96693e78ab",
   "metadata": {},
   "outputs": [
    {
     "name": "stdin",
     "output_type": "stream",
     "text": [
      "Enter the number-1:  23\n",
      "Enter the number-2:  23\n"
     ]
    },
    {
     "name": "stdout",
     "output_type": "stream",
     "text": [
      "Numbers Equal\n"
     ]
    }
   ],
   "source": [
    "# Read two numbers from user and finad which number is larger (or equal)?\n",
    "num1 = int(input('Enter the number-1: '))\n",
    "num2 = int(input('Enter the number-2: '))\n",
    "if num1 == num2:\n",
    "    print('Numbers Equal')\n",
    "elif num1 > num2:\n",
    "    print(num1,'is larger.')\n",
    "else:\n",
    "    print(num2,'is larger')"
   ]
  },
  {
   "cell_type": "code",
   "execution_count": 30,
   "id": "f326d04a-ac5a-43bf-8089-bdffb480ef1a",
   "metadata": {},
   "outputs": [
    {
     "name": "stdin",
     "output_type": "stream",
     "text": [
      "Enter the number-1:  45\n",
      "Enter the number-2:  66\n",
      "Enter the number-3:  76\n"
     ]
    },
    {
     "name": "stdout",
     "output_type": "stream",
     "text": [
      "Largest number: 76\n"
     ]
    }
   ],
   "source": [
    "num1 = int(input('Enter the number-1: '))\n",
    "num2 = int(input('Enter the number-2: '))\n",
    "num3 = int(input('Enter the number-3: '))\n",
    "\n",
    "if num1 > num2:\n",
    "    if num1 > num3:\n",
    "        print('Largest number:', num1)\n",
    "    else:\n",
    "        print('Largest number:', num3)\n",
    "else:\n",
    "    if num2 > num3:\n",
    "        print('Largest number:', num2)\n",
    "    else:\n",
    "        print('Largest number:', num3)"
   ]
  },
  {
   "cell_type": "code",
   "execution_count": 31,
   "id": "46f28f41-cabc-4629-af6b-6977fa440956",
   "metadata": {},
   "outputs": [
    {
     "name": "stdin",
     "output_type": "stream",
     "text": [
      "Enter the number-1:  56\n",
      "Enter the number-2:  44\n",
      "Enter the number-3:  32\n"
     ]
    },
    {
     "name": "stdout",
     "output_type": "stream",
     "text": [
      "Largest number: 56\n"
     ]
    }
   ],
   "source": [
    "num1 = int(input('Enter the number-1: '))\n",
    "num2 = int(input('Enter the number-2: '))\n",
    "num3 = int(input('Enter the number-3: '))\n",
    "\n",
    "if num1 > num2 and num1 > num3:\n",
    "    print('Largest number:', num1)\n",
    "elif num2 > num1 and num2 > num3:\n",
    "    print('Largest number:', num2)\n",
    "else:\n",
    "    print('Largest number:', num3)"
   ]
  },
  {
   "cell_type": "code",
   "execution_count": 32,
   "id": "ff705200-556b-4f8a-be65-4bf5bb5f8710",
   "metadata": {},
   "outputs": [],
   "source": [
    "# 2000, 2004, 2008, 2012... 2024, 2028"
   ]
  },
  {
   "cell_type": "code",
   "execution_count": 33,
   "id": "a37f070f-af0c-4a9e-8c55-d87f28c94509",
   "metadata": {},
   "outputs": [
    {
     "name": "stdin",
     "output_type": "stream",
     "text": [
      "Enter the year:  2024\n"
     ]
    },
    {
     "name": "stdout",
     "output_type": "stream",
     "text": [
      "Leap year!\n"
     ]
    }
   ],
   "source": [
    "year = int(input('Enter the year: '))\n",
    "\n",
    "if year % 4 == 0:\n",
    "    print('Leap year!')\n",
    "else:\n",
    "    print('Not Leap year.')"
   ]
  },
  {
   "cell_type": "markdown",
   "id": "9ef8c766-1cc3-4a28-88d0-6bc18043d204",
   "metadata": {},
   "source": [
    "##### Repeatable elif"
   ]
  },
  {
   "cell_type": "code",
   "execution_count": 35,
   "id": "f349c7cb-ed84-472f-8209-5808266ad7bb",
   "metadata": {},
   "outputs": [
    {
     "name": "stdin",
     "output_type": "stream",
     "text": [
      "Enter the marks: 56\n"
     ]
    },
    {
     "name": "stdout",
     "output_type": "stream",
     "text": [
      "Second Class\n"
     ]
    }
   ],
   "source": [
    "marks = float(input('Enter the marks:'))\n",
    "\n",
    "if marks >= 75:\n",
    "    print('Distinction')\n",
    "elif marks >= 60:\n",
    "    print('First Class')\n",
    "elif marks >= 50:\n",
    "    print('Second Class')\n",
    "elif marks >= 40:\n",
    "    print('PASS class')\n",
    "else:\n",
    "    print('FAILED!')"
   ]
  },
  {
   "cell_type": "code",
   "execution_count": 36,
   "id": "2a5e29d9-716d-49bc-89e2-0ee1ae8c91aa",
   "metadata": {},
   "outputs": [
    {
     "name": "stdin",
     "output_type": "stream",
     "text": [
      "Enter the marks: 45\n"
     ]
    },
    {
     "name": "stdout",
     "output_type": "stream",
     "text": [
      "Pass Class\n"
     ]
    }
   ],
   "source": [
    "marks = float(input('Enter the marks:'))\n",
    "\n",
    "if marks < 40:\n",
    "    print('Failed!')\n",
    "elif marks < 50:\n",
    "    print('Pass Class')\n",
    "elif marks < 60:\n",
    "    print('Second Class')\n",
    "elif marks < 75:\n",
    "    print('First Class')\n",
    "else:\n",
    "    print('Distinction')"
   ]
  },
  {
   "cell_type": "markdown",
   "id": "cd82e76e-fa15-4d86-be13-01f200c14d82",
   "metadata": {},
   "source": [
    "##### Menu based program"
   ]
  },
  {
   "cell_type": "code",
   "execution_count": 42,
   "id": "e636026b-e06b-41eb-ab43-97ea93708a4b",
   "metadata": {},
   "outputs": [
    {
     "name": "stdin",
     "output_type": "stream",
     "text": [
      "Enter the number:  44\n"
     ]
    },
    {
     "name": "stdout",
     "output_type": "stream",
     "text": [
      "1. Find Square\n",
      "2. Find Cube\n",
      "3. Check +/-\n",
      "4. Check odd/even\n",
      "5. Exit\n"
     ]
    },
    {
     "name": "stdin",
     "output_type": "stream",
     "text": [
      "Enter the choice: 5\n"
     ]
    }
   ],
   "source": [
    "num = int(input('Enter the number: '))\n",
    "print('1. Find Square\\n2. Find Cube\\n3. Check +/-\\n4. Check odd/even\\n5. Exit')\n",
    "choice = int(input('Enter the choice:'))\n",
    "if choice == 1:\n",
    "    print('Square is', num ** 2)\n",
    "elif choice == 2:\n",
    "    print('Cube is', num ** 3)\n",
    "elif choice == 3:\n",
    "    if num > 0:\n",
    "        print('Positive')\n",
    "    else:\n",
    "        print('Negative')\n",
    "elif choice == 4:\n",
    "    if num % 2 == 0:\n",
    "        print('Even number')\n",
    "    else:\n",
    "        print('Odd number')\n",
    "elif choice == 5:\n",
    "    exit\n",
    "else:\n",
    "    print('Wrong Choice')"
   ]
  },
  {
   "cell_type": "code",
   "execution_count": null,
   "id": "4196b274-3dff-45a7-a680-2cd1b0d2ca0c",
   "metadata": {},
   "outputs": [],
   "source": []
  }
 ],
 "metadata": {
  "kernelspec": {
   "display_name": "Python 3 (ipykernel)",
   "language": "python",
   "name": "python3"
  },
  "language_info": {
   "codemirror_mode": {
    "name": "ipython",
    "version": 3
   },
   "file_extension": ".py",
   "mimetype": "text/x-python",
   "name": "python",
   "nbconvert_exporter": "python",
   "pygments_lexer": "ipython3",
   "version": "3.10.12"
  }
 },
 "nbformat": 4,
 "nbformat_minor": 5
}
